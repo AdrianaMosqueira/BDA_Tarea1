{
 "cells": [
  {
   "cell_type": "markdown",
   "id": "58715fea",
   "metadata": {},
   "source": [
    "## Parte I"
   ]
  },
  {
   "cell_type": "markdown",
   "id": "71d9c20b",
   "metadata": {},
   "source": [
    "#### Responda las siguientes preguntas en 200 palabras o menos (2 puntos cada una)\n"
   ]
  },
  {
   "cell_type": "markdown",
   "id": "9c7e0706",
   "metadata": {},
   "source": [
    "1.\t¿Qué es un proceso embarrassingly parallel y uno inherentemente serial? Dé un ejemplo de cada uno (distintos a los vistos en clase)\n",
    "\n",
    "El proceso de convertir un programa serial o algoritmo en un programa paralelo es denominado paralelilazación, y los programas que pueden ser paralelizado por una simple división del trabajo entre los procesos son conocidos como “embarrassingly parallel”. Un ejemplo de ello es la renderización de infografías, utilizada en la animación por computadora, para la cual cada fotograma o píxel se puede renderizar de forma independiente (renderizado paralelo ). Sin embargo, no es posible que todos los procesos o algoritmos sean paralelizables, a estos se les denomina procesos inherentemente serial, por ejemplo: el muestreo de Gibbs (algoritmo de la cadena de Markov Monte Carlo - MCMC), usado para obtener una secuencia de observaciones que se aproximan a partir de una distribución de probabilidad multivariante, cuando el muestreo directo es difícil y usado comúnmente en la inferencia bayesiana. Este algoritmo es secuencial por naturaleza, es decir, se muestrea una variable aleatoria condicionada a todas las demás variables aleatorias. Si bien, este problema se puede absolver realizando un muestreo por bloques, es ineficiente pues implica un cálculo mucho más extenso"
   ]
  },
  {
   "cell_type": "markdown",
   "id": "ce12600a",
   "metadata": {},
   "source": [
    "2.\t¿Qué cuellos de botella puede enfrentar al paralelizar un proceso? Relaciónelo con la ley de Amdahl/Gustafson \n",
    "\n",
    "Uno de los principales cuellos de botella de un proceso de paralelización, es que podemos encontrar procesos que solo pueden ser paralelizables parcialmente, es decir que una parte del proceso sea “inherentemente serial”, lo cual impide que la paralelización sea completa. En este sentido, la ley de Amdahl señala que a menos que se paralelice prácticamente todo el programa en serie, el aumento de la velocidad posiblemente sea muy limitado, incluso si el número de núcleos es elevado. Entonces, esta velocidad no podrá ser mayor a 1/r, incluso si r es bastante pequeño, no se podrá obtener una velocidad superior a r. Sin embargo, este problema no debe preocuparnos demasiado, pues la ley de Amdahl no toma en cuenta el tamaño de problema, el cual al ser más grande puede llegar a reducir la fracción “inherentemente serial” del programa, esta ley es conocida como la ley de Gustafson."
   ]
  },
  {
   "cell_type": "markdown",
   "id": "21982a62",
   "metadata": {},
   "source": [
    "3.\t¿En qué se diferencia un CPU de un GPU? Dé un ejemplo de un proceso que convendría paralelizar en cada uno de estos tipos de unidad de procesamiento. \n",
    "\n",
    "La principal diferencia se encuentra en la cantidad de núcleos que poseen, tanto un CPU como un GPU, los cuales condicionan las tareas que pueden o no cumplir. El CPU tiene unos cuantos núcleos optimizados para el procesamiento en serie secuencial, convirtiéndolo en un potente motor de ejecución, que centra su reducido número de núcleos en realizar tareas individuales rápidamente. Por su parte, un GPU cuenta con una arquitectura en paralelo más grande que consiste de miles de núcleos más pequeños y eficaces, y que se diseñaron para resolver varias tareas al mismo tiempo. Ejemplo GPU: Una red de aprendizaje profundo puede tener millones de parámetros, y por ello los GPU son usados con bastante frecuencia, varias GPU conectadas a múltiples nodos de procesamiento distribuido. "
   ]
  },
  {
   "cell_type": "markdown",
   "id": "29f41615",
   "metadata": {},
   "source": [
    "4.\tPiense en una tarea serial que le han encargado paralelizar. Describa el diseño de la implementación en paralelo de dicha tarea siguiente el método de Foster y los cuatro elementos que lo componen.\n",
    "\n",
    "Se viene desarrollando un proyecto de lenguaje natural que extrae y procesa los tweets de los principales representantes de la lucha contra el cambio climático. Para lo cual se propone una solución paralela basada en MPI: Se (I) **particionará** en cuatro tareas: (1) extracción de los tweets, (2) limpieza de la información extraída y (3) generación de estadísticas locales y (4) geración de estadísticas globales. Habrá (II) **comunicación** para cada una de las etapas y hay que ser particularmente cuidadosos en la comunicación entre la tercera y cuarta tarea. En cuanto a la (III) **aglomeración**, cada uno de los procesadores, ejecuta las operaciones seriales que se tienen que hacer sobre los tweets correspondientes a las tres primeras tareas. La última tarea se realizará en otro procesador. Respecto al (IV) **mapeo**, cada procesador extraerá un número n de tweets (tarea 1) y realizará las tareas 2 y 3 sobre los tweets que extrajo. Las estadísticas locales de la tarea 3 serán aglomeradas en un solo procesador que realizará la tarea 4. "
   ]
  },
  {
   "cell_type": "markdown",
   "id": "73f5a589",
   "metadata": {},
   "source": [
    "## Parte II"
   ]
  },
  {
   "cell_type": "markdown",
   "id": "85ff80ca",
   "metadata": {},
   "source": [
    "### Pregunta 1"
   ]
  },
  {
   "cell_type": "markdown",
   "id": "bc400fc2",
   "metadata": {},
   "source": [
    "#### Escribir un código (“parte2_1.py”) que realice lo siguiente:"
   ]
  },
  {
   "cell_type": "code",
   "execution_count": 1,
   "id": "ba905fa8",
   "metadata": {},
   "outputs": [],
   "source": [
    "#Establecer directorio\n",
    "import os\n",
    "os.chdir('r../../../Big_Data_Analytics_Tarea1')"
   ]
  },
  {
   "cell_type": "markdown",
   "id": "ec1d4c6f",
   "metadata": {},
   "source": [
    "#### a.\tQue un procesador genere un diccionario y lo envíe a otros tres procesadores."
   ]
  },
  {
   "cell_type": "code",
   "execution_count": 2,
   "id": "5c956a3d",
   "metadata": {},
   "outputs": [
    {
     "name": "stdout",
     "output_type": "stream",
     "text": [
      "Overwriting parte2_1.py\n"
     ]
    }
   ],
   "source": [
    "%%writefile parte2_1.py \n",
    "from mpi4py import MPI\n",
    "\n",
    "comm = MPI.COMM_WORLD\n",
    "rank = comm.Get_rank()\n",
    "\n",
    "if rank == 0:\n",
    "    diccionario1 = {'alpha': 3, 'beta': 1.5}\n",
    "    comm.send(diccionario1, dest=1 , tag=1)\n",
    "    diccionario2 = {'Meses': 12, 'Días': 30}\n",
    "    comm.send(diccionario2, dest=2 , tag=2)\n",
    "    diccionario3 = {'Edad': 23, 'Grupo':5 }\n",
    "    comm.send(diccionario3, dest=3 , tag=3)\n",
    "elif rank == 1:\n",
    "    diccionario1 = comm.recv(source=0 , tag=1)\n",
    "    print(\"I am processor\", rank)\n",
    "    print(diccionario1)   \n",
    "elif rank == 2:\n",
    "    diccionario2 = comm.recv(source=0 , tag=2)\n",
    "    print(\"I am processor\", rank)\n",
    "    print(diccionario2)   \n",
    "elif rank == 3:\n",
    "    diccionario3 = comm.recv(source=0 , tag=3)\n",
    "    print(\"I am processor\", rank)\n",
    "    print(diccionario3)"
   ]
  },
  {
   "cell_type": "markdown",
   "id": "39fc387e",
   "metadata": {},
   "source": [
    "#### b.\tQue cada uno de los tres procesadores reciba el diccionario enviado, imprima su número de procesador y el diccionario. "
   ]
  },
  {
   "cell_type": "code",
   "execution_count": 3,
   "id": "bbde1e51",
   "metadata": {},
   "outputs": [
    {
     "name": "stdout",
     "output_type": "stream",
     "text": [
      "I am processor 3\n",
      "{'Edad': 23, 'Grupo': 5}\n",
      "I am processor 1\n",
      "{'alpha': 3, 'beta': 1.5}\n",
      "I am processor 2\n",
      "{'Meses': 12, 'Días': 30}\n",
      "0.5255606174468994\n"
     ]
    }
   ],
   "source": [
    "import time\n",
    "start = time.time()\n",
    "! mpiexec -n 4 python parte2_1.py\n",
    "end = time.time()\n",
    "print(end - start)"
   ]
  },
  {
   "cell_type": "markdown",
   "id": "27aa8a1f",
   "metadata": {},
   "source": [
    "#### c.\tEn otro chunk responda: Si usted ejecutara el código 10 veces, ¿el orden de los resultados sería siempre igual? ¿Por qué?"
   ]
  },
  {
   "cell_type": "markdown",
   "id": "f2125d2f",
   "metadata": {},
   "source": [
    "No, necesariamente. Esto se debe a que las acciones se están desarrollando de forma paralela y uno de los procesadores pudo ser más rápido que el otro, independientemente de en que orden fueron descritos en el código y esto se debe a que en realidad los 3 procesadores se están ejecutando de forma paralela, lo cual da la posibilidad que uno de los tres ejecute más rápido que los otros dos. Es decir, pede suceder que el procesador 3 opere más rápido que el procesador 1 y 2 y en una siguiente ejecución el procesador 2 opera más rápido que el 1 y 3, y también puede darse que en un momento el procesador 1 opere más rápido que el 2 y 3. Ello deterinará el orden del resultado tanto de como aparecen los procedores y el tiempo que demora."
   ]
  },
  {
   "cell_type": "markdown",
   "id": "1b4ed6b3",
   "metadata": {},
   "source": [
    "### Pregunta 2"
   ]
  },
  {
   "cell_type": "markdown",
   "id": "47e5b54a",
   "metadata": {},
   "source": [
    "#### a.Que un procesador genere dos numpy array diferentes, cada uno de 1,000,000 observaciones. Llamar “num1” y “num2” a estos numpy."
   ]
  },
  {
   "cell_type": "markdown",
   "id": "094cfa52",
   "metadata": {},
   "source": [
    "Con nuestro procesador de rango 0 generamos dos arrays de números aleatorios con 1 000 000 de observaciones cada uno que llamaremos \"num1\" y \"num2\"."
   ]
  },
  {
   "cell_type": "code",
   "execution_count": 4,
   "id": "d19038f9",
   "metadata": {},
   "outputs": [
    {
     "name": "stdout",
     "output_type": "stream",
     "text": [
      "Overwriting numpys.py\n"
     ]
    }
   ],
   "source": [
    "%%writefile numpys.py \n",
    "from mpi4py import MPI\n",
    "\n",
    "import numpy as np\n",
    "import random\n",
    "\n",
    "comm = MPI.COMM_WORLD\n",
    "rank = comm.Get_rank()\n",
    "size = comm.Get_size()\n",
    "\n",
    "np.random.seed(1102)\n",
    "\n",
    "if rank == 0:\n",
    "    num1 = np.random.random(1000000)\n",
    "    num2 = np.random.random(1000000)\n",
    "    print (\"El array num1 generado por el procesador\",rank,\"es\",num1)\n",
    "    print (\"El array num2 generado por el procesador\",rank,\"es\",num2)\n"
   ]
  },
  {
   "cell_type": "code",
   "execution_count": 5,
   "id": "f651a36b",
   "metadata": {},
   "outputs": [
    {
     "name": "stdout",
     "output_type": "stream",
     "text": [
      "El array num1 generado por el procesador 0 es [0.3051895  0.8090249  0.70315185 ... 0.99735614 0.81987858 0.19472251]\n",
      "El array num2 generado por el procesador 0 es [0.69826857 0.68300644 0.62900289 ... 0.54458017 0.73143874 0.12210111]\n"
     ]
    }
   ],
   "source": [
    "! mpiexec -n 1 python numpys.py"
   ]
  },
  {
   "cell_type": "markdown",
   "id": "9137efff",
   "metadata": {},
   "source": [
    "#### b.Enviar cada numpy a un procesador diferente. Que cada uno de los otros procesadores reciba su numpy"
   ]
  },
  {
   "cell_type": "markdown",
   "id": "3ac17800",
   "metadata": {},
   "source": [
    "Procedemos a enviar \"num1\" al procesador de rango 1 y \"num2\" al procesador de rango 2."
   ]
  },
  {
   "cell_type": "code",
   "execution_count": 6,
   "id": "a32b95aa",
   "metadata": {},
   "outputs": [
    {
     "name": "stdout",
     "output_type": "stream",
     "text": [
      "Overwriting numpys2.py\n"
     ]
    }
   ],
   "source": [
    "%%writefile numpys2.py \n",
    "from mpi4py import MPI\n",
    "\n",
    "import numpy as np\n",
    "import random\n",
    "\n",
    "comm = MPI.COMM_WORLD\n",
    "rank = comm.Get_rank()\n",
    "size = comm.Get_size()\n",
    "\n",
    "np.random.seed(1102)\n",
    "\n",
    "if rank == 0:\n",
    "    num1 = np.random.random(1000000)\n",
    "    num2 = np.random.random(1000000)\n",
    "    comm.Send(num1, dest=1)\n",
    "    comm.Send(num2, dest=2)\n",
    "elif rank == 1:\n",
    "    num1 = np.empty(1000000)\n",
    "    comm.Recv(num1, source=0)\n",
    "    print (\"El procesador\",rank,\"recibio\",num1)\n",
    "elif rank == 2:\n",
    "    num2 = np.empty(1000000)\n",
    "    comm.Recv(num2, source=0)\n",
    "    print (\"El procesador\",rank,\"recibio\",num2)"
   ]
  },
  {
   "cell_type": "code",
   "execution_count": 7,
   "id": "5cf93242",
   "metadata": {},
   "outputs": [
    {
     "name": "stdout",
     "output_type": "stream",
     "text": [
      "El procesador 1 recibio [0.3051895  0.8090249  0.70315185 ... 0.99735614 0.81987858 0.19472251]\n",
      "El procesador 2 recibio [0.69826857 0.68300644 0.62900289 ... 0.54458017 0.73143874 0.12210111]\n"
     ]
    }
   ],
   "source": [
    "! mpiexec -n 3 python numpys2.py"
   ]
  },
  {
   "cell_type": "markdown",
   "id": "05d106b5",
   "metadata": {},
   "source": [
    "#### c. Que otro procesador (que no haya recibido nada) reciba “num1” y “num2” y los imprima."
   ]
  },
  {
   "cell_type": "markdown",
   "id": "30daf927",
   "metadata": {},
   "source": [
    "Procedemos a enviar \"num1\" desde nuestro procesador de rango 1 y \"num2\" desde nuestro procesador de rango 2 a nuestro procesador de rango 3. "
   ]
  },
  {
   "cell_type": "code",
   "execution_count": 8,
   "id": "76deb5d6",
   "metadata": {},
   "outputs": [
    {
     "name": "stdout",
     "output_type": "stream",
     "text": [
      "Overwriting parte2_2.py\n"
     ]
    }
   ],
   "source": [
    "%%writefile parte2_2.py \n",
    "from mpi4py import MPI\n",
    "\n",
    "import numpy as np\n",
    "import random\n",
    "\n",
    "comm = MPI.COMM_WORLD\n",
    "rank = comm.Get_rank()\n",
    "size = comm.Get_size()\n",
    "\n",
    "np.random.seed(1102)\n",
    "\n",
    "if rank == 0:\n",
    "    num1 = np.random.random(1000000)\n",
    "    num2 = np.random.random(1000000)\n",
    "    comm.Send(num1, dest=1)\n",
    "    comm.Send(num2, dest=2)\n",
    "elif rank == 1:\n",
    "    num1 = np.empty(1000000)\n",
    "    comm.Recv(num1, source=0)\n",
    "    comm.Send(num1, dest=3)\n",
    "elif rank == 2:\n",
    "    num2 = np.empty(1000000)\n",
    "    comm.Recv(num2, source=0)\n",
    "    comm.Send(num2, dest=3)\n",
    "elif rank == 3:\n",
    "    num1 = np.empty(1000000)\n",
    "    comm.Recv(num1, source=1)\n",
    "    num2 = np.empty(1000000)\n",
    "    comm.Recv(num2, source=2)\n",
    "    print (\"El procesador\", rank ,\"recibio\",num1)\n",
    "    print (\"El procesador\", rank, \"recibio\",num2)"
   ]
  },
  {
   "cell_type": "markdown",
   "id": "37e2ee2c",
   "metadata": {},
   "source": [
    "#### d.\tEjecute el código creado y registre el tiempo que toma realizar este ejercicio."
   ]
  },
  {
   "cell_type": "markdown",
   "id": "f88d375f",
   "metadata": {},
   "source": [
    "Procedemos a ejecutar nuestro último código. Registramos el tiempo de ejecución en nuestro código."
   ]
  },
  {
   "cell_type": "code",
   "execution_count": 9,
   "id": "ff06fb06",
   "metadata": {},
   "outputs": [
    {
     "name": "stdout",
     "output_type": "stream",
     "text": [
      "El procesador 3 recibio [0.3051895  0.8090249  0.70315185 ... 0.99735614 0.81987858 0.19472251]\n",
      "El procesador 3 recibio [0.69826857 0.68300644 0.62900289 ... 0.54458017 0.73143874 0.12210111]\n",
      "El proceso tomo 0.8293895721435547 segundos\n"
     ]
    }
   ],
   "source": [
    "import time\n",
    "start = time.time()\n",
    "! mpiexec -n 4 python parte2_2.py\n",
    "end = time.time()\n",
    "print(\"El proceso tomo\",end - start,\"segundos\")"
   ]
  },
  {
   "cell_type": "markdown",
   "id": "6f694578",
   "metadata": {},
   "source": [
    "e.\tEn otro chunk responda: ¿existe una manera de agilizar este proceso con las herramientas de MPI? Sea detallado en su respuesta y argumentos."
   ]
  },
  {
   "cell_type": "markdown",
   "id": "ab789fe0",
   "metadata": {},
   "source": [
    "Una manera de agilizar el proceso es con los comandos scatter, gather y reduce. Si la base de datos está dividida en arrays (o chunks en general) el comando comm.scatter permite enviar estos arrays a otros procesadores. Por ejemplo, los arrays creados por el procesador 0 pueden ser transmitidos a los procesadores 1 y 2 de esta manera. \n",
    "\n",
    "De la misma manera, el comando comm.gather permite reunir los arrays u otros objetos tratados en otros porcesadores. Por ejemplo el procesador 3 puede de esta forma recuperar los máximos encontrados por los procesadores 1 y 2. \n",
    "\n",
    "Finalmente, con el comando comm.reduce y el argumento MPI_MAX permite realizar operaciones sobre objetos en otros procesadores. Por ejemplo, con este comando el procesador 3 puede hallar el máximo global a partir de los máximos guardados como objetos en los procesadores 1 y 2.  "
   ]
  },
  {
   "cell_type": "markdown",
   "id": "8bc4b94f",
   "metadata": {},
   "source": [
    "### Pregunta 3"
   ]
  },
  {
   "cell_type": "markdown",
   "id": "ccec7906",
   "metadata": {},
   "source": [
    "Generamos un numpy array que almacene el archivo: “tarea2.csv”, vemos cuantos elementos contiene y calculamos el máximo para tenerlo como referencia para las siguientes preguntas."
   ]
  },
  {
   "cell_type": "code",
   "execution_count": 10,
   "id": "ed50402a",
   "metadata": {},
   "outputs": [
    {
     "name": "stdout",
     "output_type": "stream",
     "text": [
      "Vemos que la base de datos tiene (1048575,) elementos.\n"
     ]
    }
   ],
   "source": [
    "import numpy as np\n",
    "from numpy import genfromtxt\n",
    "tarea2 = genfromtxt('tarea2.csv', delimiter=',')\n",
    "print(\"Vemos que la base de datos tiene\",tarea2.shape,\"elementos.\")"
   ]
  },
  {
   "cell_type": "code",
   "execution_count": 11,
   "id": "7e14481d",
   "metadata": {},
   "outputs": [
    {
     "name": "stdout",
     "output_type": "stream",
     "text": [
      "El máximo que deberíamos encontrar en cada proceso es 0.99999982\n"
     ]
    }
   ],
   "source": [
    "print(\"El máximo que deberíamos encontrar en cada proceso es\",tarea2.max())"
   ]
  },
  {
   "cell_type": "markdown",
   "id": "e53b46b7",
   "metadata": {},
   "source": [
    "#### a.\tEscribir un código que halle el valor máximo de “tarea2” usando un procesador. Imprimir el valor máximo. Registrar el tiempo de demora."
   ]
  },
  {
   "cell_type": "markdown",
   "id": "d869cbb6",
   "metadata": {},
   "source": [
    "Escribimos nuestro código de manera que el procesador 0 almacene la base de datos \"tarea2\" en un numpy array y calcule su máximo. Hemos visto que asignar la creación del array a un procesador es más eficiente que no asignarlo."
   ]
  },
  {
   "cell_type": "code",
   "execution_count": 12,
   "id": "28e6df52",
   "metadata": {},
   "outputs": [
    {
     "name": "stdout",
     "output_type": "stream",
     "text": [
      "Overwriting p3a.py\n"
     ]
    }
   ],
   "source": [
    "%%writefile p3a.py \n",
    "from mpi4py import MPI\n",
    "\n",
    "import numpy as np\n",
    "import random\n",
    "from numpy import genfromtxt\n",
    "\n",
    "comm = MPI.COMM_WORLD\n",
    "rank = comm.Get_rank()\n",
    "size = comm.Get_size()\n",
    "\n",
    "if rank == 0:\n",
    "    tarea2 = genfromtxt('tarea2.csv', delimiter=',')\n",
    "    maximo = tarea2.max()\n",
    "    print(\"Nuestro máximo es efectivamente\",maximo)"
   ]
  },
  {
   "cell_type": "code",
   "execution_count": 13,
   "id": "beefec54",
   "metadata": {},
   "outputs": [
    {
     "name": "stdout",
     "output_type": "stream",
     "text": [
      "Nuestro máximo es efectivamente 0.99999982\n",
      "El proceso tomó 6.261150121688843 segundos\n"
     ]
    }
   ],
   "source": [
    "import time\n",
    "start = time.time()\n",
    "! mpiexec -n 1 python p3a.py\n",
    "end = time.time()\n",
    "print(\"El proceso tomó\",end - start,\"segundos\")"
   ]
  },
  {
   "cell_type": "markdown",
   "id": "9daf2d75",
   "metadata": {},
   "source": [
    "Nuestro código encontró de manera exitosa el máximo global (0.9999982). En la ejecución hemos incluido el tiempo que tomó."
   ]
  },
  {
   "cell_type": "markdown",
   "id": "51dd7495",
   "metadata": {},
   "source": [
    "#### b.\tEscribir un código que realice las siguientes indicaciones. Dividir el numpy en dos partes iguales. Que dos procesadores distintos encuentren el máximo de cada parte. Que otro procesador junte los máximos hallados y encuentre el máximo global. Este resultado debe ser igual al de 3a. Registrar el tiempo de demora."
   ]
  },
  {
   "cell_type": "markdown",
   "id": "0a052bbe",
   "metadata": {},
   "source": [
    "Primero dividimos el numpy en 2 chunks fuera del código a manera de test y también para averiguar el tamaño de cada chunk pues necesitaremos esa información en nuestro código MPI."
   ]
  },
  {
   "cell_type": "code",
   "execution_count": 14,
   "id": "557639bf",
   "metadata": {},
   "outputs": [
    {
     "data": {
      "text/plain": [
       "[array([0.34887171, 0.2668857 , 0.1366463 , ..., 0.57128704, 0.81662822,\n",
       "        0.24393123]),\n",
       " array([0.71707726, 0.31591403, 0.57266182, ..., 0.48673952, 0.09359856,\n",
       "        0.93271565])]"
      ]
     },
     "execution_count": 14,
     "metadata": {},
     "output_type": "execute_result"
    }
   ],
   "source": [
    "tarea2_chunk = np.array_split(tarea2, 2)\n",
    "tarea2_chunk"
   ]
  },
  {
   "cell_type": "code",
   "execution_count": 15,
   "id": "476b287c",
   "metadata": {},
   "outputs": [
    {
     "name": "stdout",
     "output_type": "stream",
     "text": [
      "El tamaño de nuestro primer chunk es 524288\n"
     ]
    }
   ],
   "source": [
    "print(\"El tamaño de nuestro primer chunk es\",tarea2_chunk[0].size)"
   ]
  },
  {
   "cell_type": "code",
   "execution_count": 16,
   "id": "2ca585fe",
   "metadata": {},
   "outputs": [
    {
     "name": "stdout",
     "output_type": "stream",
     "text": [
      "El tamaño de nuestro segundo chunk es 524287\n"
     ]
    }
   ],
   "source": [
    "print(\"El tamaño de nuestro segundo chunk es\",tarea2_chunk[1].size)"
   ]
  },
  {
   "cell_type": "markdown",
   "id": "c1ccd534",
   "metadata": {},
   "source": [
    "Escribimos un código donde el procesador 0 divide el MPI y envía los 2 chunks a los procesadores 1 y 2. \n",
    "Los procesadores 1 y 2 calculan el máximo del chunk que recibieron.\n",
    "El procesador 3 recibe los máximos de los procesadores 1 y 2 calcula el máximo global a partir de ahí."
   ]
  },
  {
   "cell_type": "code",
   "execution_count": 17,
   "id": "2eef1f64",
   "metadata": {},
   "outputs": [
    {
     "name": "stdout",
     "output_type": "stream",
     "text": [
      "Overwriting p3b.py\n"
     ]
    }
   ],
   "source": [
    "%%writefile p3b.py \n",
    "from mpi4py import MPI\n",
    "\n",
    "import numpy as np\n",
    "import pandas as pd\n",
    "import random\n",
    "from numpy import genfromtxt\n",
    "\n",
    "\n",
    "comm = MPI.COMM_WORLD\n",
    "rank = comm.Get_rank()\n",
    "size = comm.Get_size()\n",
    "\n",
    "if rank == 0:\n",
    "    tarea2 = genfromtxt('tarea2.csv', delimiter=',')\n",
    "    tarea2_chunk = np.array_split(tarea2, 2)\n",
    "    chunk1=tarea2_chunk[0]\n",
    "    chunk2=tarea2_chunk[1]\n",
    "    comm.Send(chunk1, dest=1)\n",
    "    comm.Send(chunk2, dest=2)\n",
    "elif rank == 1:\n",
    "    chunk1 = np.empty(524288)\n",
    "    comm.Recv(chunk1, source=0)\n",
    "    max1=chunk1.max()\n",
    "    comm.Send(max1, dest=3)\n",
    "    print(\"El procesador\", rank,\"encontró\",max1)\n",
    "elif rank == 2:\n",
    "    chunk2 = np.empty(524287)\n",
    "    comm.Recv(chunk2, source=0)\n",
    "    max2=chunk2.max()\n",
    "    comm.Send(max2, dest=3)\n",
    "    print(\"El procesador\", rank,\"encontró\",max2)\n",
    "elif rank == 3:\n",
    "    max1 = np.empty(1)\n",
    "    max2 = np.empty(1)\n",
    "    comm.Recv(max1, source=1)\n",
    "    comm.Recv(max2, source=2)\n",
    "    max3=max(max1,max2)\n",
    "    print(\"El procesador\",rank,\"encontró\",max3)"
   ]
  },
  {
   "cell_type": "code",
   "execution_count": 18,
   "id": "10c0be51",
   "metadata": {},
   "outputs": [
    {
     "name": "stdout",
     "output_type": "stream",
     "text": [
      "El procesador 1 encontró 0.99999791\n",
      "El procesador 2 encontró 0.99999982\n",
      "El procesador 3 encontró [0.99999982]\n",
      "El proceso tomo 7.583211898803711 segundos\n"
     ]
    }
   ],
   "source": [
    "import time\n",
    "start = time.time()\n",
    "! mpiexec -n 4 python p3b.py\n",
    "end = time.time()\n",
    "print(\"El proceso tomo\",end - start,\"segundos\")"
   ]
  },
  {
   "cell_type": "markdown",
   "id": "f1abb296",
   "metadata": {},
   "source": [
    "Vemos que encontramos el mismo máximo que en 3a, es decir 0.99999982. Sin embargo encontramos que toma más tiempo que con el código de 3a."
   ]
  },
  {
   "cell_type": "markdown",
   "id": "4051b89c",
   "metadata": {},
   "source": [
    "Probamos una alternativa donde la generación de los chunks no se asigna a ningún procesador en particular. Aquí los procesadores 0 y 1 toman cada uno de los 2 chunks y hallan los máximos locales mientras que el procesador 2 recibe estos máximos y halla el máximo global. "
   ]
  },
  {
   "cell_type": "code",
   "execution_count": 19,
   "id": "1e0b194c",
   "metadata": {},
   "outputs": [
    {
     "name": "stdout",
     "output_type": "stream",
     "text": [
      "Overwriting p3b2.py\n"
     ]
    }
   ],
   "source": [
    "%%writefile p3b2.py \n",
    "from mpi4py import MPI\n",
    "\n",
    "import numpy as np\n",
    "import pandas as pd\n",
    "import random\n",
    "from numpy import genfromtxt\n",
    "\n",
    "comm = MPI.COMM_WORLD\n",
    "rank = comm.Get_rank()\n",
    "size = comm.Get_size()\n",
    "\n",
    "tarea2 = genfromtxt('tarea2.csv', delimiter=',')\n",
    "tarea2_chunk = np.array_split(tarea2, 2)\n",
    "chunk1=tarea2_chunk[0]\n",
    "chunk2=tarea2_chunk[1]\n",
    "\n",
    "if rank == 0:    \n",
    "    max1=chunk1.max()\n",
    "    comm.Send(max1, dest=2)\n",
    "    print(\"El procesador\", rank, \"encontró\",max1)\n",
    "elif rank == 1:\n",
    "    max2=chunk2.max()\n",
    "    comm.Send(max2, dest=2)\n",
    "    print(\"El procesador\",rank,\"encontró\",max2)\n",
    "elif rank == 2:\n",
    "    max1 = np.empty(1)\n",
    "    max2 = np.empty(1)\n",
    "    comm.Recv(max1, source=0)\n",
    "    comm.Recv(max2, source=1)\n",
    "    maxtot=max(max1,max2)\n",
    "    print(\"El procesador\",rank,\"encontró\",maxtot)"
   ]
  },
  {
   "cell_type": "code",
   "execution_count": 20,
   "id": "fe543520",
   "metadata": {},
   "outputs": [
    {
     "name": "stdout",
     "output_type": "stream",
     "text": [
      "El procesador 1 encontró 0.99999982\n",
      "El procesador 0 encontró 0.99999791\n",
      "El procesador 2 encontró [0.99999982]\n",
      "El proceso tomo 8.206487655639648 segundos\n"
     ]
    }
   ],
   "source": [
    "import time\n",
    "start = time.time()\n",
    "! mpiexec -n 3 python p3b2.py\n",
    "end = time.time()\n",
    "print(\"El proceso tomo\",end - start,\"segundos\")"
   ]
  },
  {
   "cell_type": "markdown",
   "id": "9519fc52",
   "metadata": {},
   "source": [
    "Este método parece ser menos eficiente que si asignamos la creación del array a un procesador. Por ende lo descartamos."
   ]
  },
  {
   "cell_type": "markdown",
   "id": "0a6101ff",
   "metadata": {},
   "source": [
    "#### c.\tRepetir 3b dividiendo el numpy original en tres partes. Registrar el tiempo de demora."
   ]
  },
  {
   "cell_type": "markdown",
   "id": "7098cfe3",
   "metadata": {},
   "source": [
    "De nuevo vemos cual es el tamaño de los arrays."
   ]
  },
  {
   "cell_type": "code",
   "execution_count": 21,
   "id": "fb7c3449",
   "metadata": {},
   "outputs": [
    {
     "data": {
      "text/plain": [
       "[array([0.34887171, 0.2668857 , 0.1366463 , ..., 0.05235301, 0.60290039,\n",
       "        0.51786804]),\n",
       " array([0.94508648, 0.17400229, 0.74788725, ..., 0.19144469, 0.04561006,\n",
       "        0.76499122]),\n",
       " array([0.90580344, 0.27597395, 0.377038  , ..., 0.48673952, 0.09359856,\n",
       "        0.93271565])]"
      ]
     },
     "execution_count": 21,
     "metadata": {},
     "output_type": "execute_result"
    }
   ],
   "source": [
    "tarea2_chunk2 = np.array_split(tarea2, 3)\n",
    "tarea2_chunk2"
   ]
  },
  {
   "cell_type": "code",
   "execution_count": 22,
   "id": "73ece6c9",
   "metadata": {},
   "outputs": [
    {
     "name": "stdout",
     "output_type": "stream",
     "text": [
      "El tamaño de nuestro primer chunk es 349525\n"
     ]
    }
   ],
   "source": [
    "print(\"El tamaño de nuestro primer chunk es\",tarea2_chunk2[0].size)"
   ]
  },
  {
   "cell_type": "code",
   "execution_count": 23,
   "id": "5e480b4a",
   "metadata": {},
   "outputs": [
    {
     "name": "stdout",
     "output_type": "stream",
     "text": [
      "El tamaño de nuestro segundo chunk es 349525\n"
     ]
    }
   ],
   "source": [
    "print(\"El tamaño de nuestro segundo chunk es\",tarea2_chunk2[1].size)"
   ]
  },
  {
   "cell_type": "code",
   "execution_count": 24,
   "id": "32f555fd",
   "metadata": {},
   "outputs": [
    {
     "name": "stdout",
     "output_type": "stream",
     "text": [
      "El tamaño de nuestro tercer chunk es 349525\n"
     ]
    }
   ],
   "source": [
    "print(\"El tamaño de nuestro tercer chunk es\",tarea2_chunk2[2].size)"
   ]
  },
  {
   "cell_type": "markdown",
   "id": "964737f6",
   "metadata": {},
   "source": [
    "Escribimos un código donde el procesador 0 divide el MPI y envía los 3 chunks a los procesadores 1, 2 y 3. \n",
    "Los procesadores 1, 2 y 3 calculan el máximo del chunk que recibieron.\n",
    "El procesador 0 recibe los máximos de los procesadores 1, 2 y 3 y calcula el máximo global a partir de ahí."
   ]
  },
  {
   "cell_type": "code",
   "execution_count": 25,
   "id": "4d8531f8",
   "metadata": {},
   "outputs": [
    {
     "name": "stdout",
     "output_type": "stream",
     "text": [
      "Overwriting p3c.py\n"
     ]
    }
   ],
   "source": [
    "%%writefile p3c.py \n",
    "from mpi4py import MPI\n",
    "\n",
    "import numpy as np\n",
    "import pandas as pd\n",
    "import random\n",
    "from numpy import genfromtxt\n",
    "\n",
    "\n",
    "comm = MPI.COMM_WORLD\n",
    "rank = comm.Get_rank()\n",
    "size = comm.Get_size()\n",
    "\n",
    "if rank == 0:\n",
    "    tarea2 = genfromtxt('tarea2.csv', delimiter=',')\n",
    "    tarea2_chunk = np.array_split(tarea2, 3)\n",
    "    chunk1=tarea2_chunk[0]\n",
    "    chunk2=tarea2_chunk[1]\n",
    "    chunk3=tarea2_chunk[2]\n",
    "    comm.Send(chunk1, dest=1)\n",
    "    comm.Send(chunk2, dest=2)\n",
    "    comm.Send(chunk3, dest=3)\n",
    "    max1 = np.empty(1)\n",
    "    max2 = np.empty(1)\n",
    "    max3 = np.empty(1)\n",
    "    comm.Recv(max1, source=1)\n",
    "    comm.Recv(max2, source=2)\n",
    "    comm.Recv(max3, source=3)                    \n",
    "    maxtot=max(max1,max2,max3)\n",
    "    print(\"El procesador\",rank,\"encontró\",maxtot)    \n",
    "elif rank == 1:\n",
    "    chunk1 = np.empty(349525)\n",
    "    comm.Recv(chunk1, source=0)\n",
    "    max1=chunk1.max()\n",
    "    comm.Send(max1, dest=0)\n",
    "    print(\"El procesador\", rank,\"encontró\",max1)\n",
    "elif rank == 2:\n",
    "    chunk2 = np.empty(349525)\n",
    "    comm.Recv(chunk2, source=0)\n",
    "    max2=chunk2.max()\n",
    "    comm.Send(max2, dest=0)\n",
    "    print(\"El procesador\", rank,\"encontró\",max2)\n",
    "elif rank == 3:\n",
    "    chunk3 = np.empty(349525)\n",
    "    comm.Recv(chunk3, source=0)\n",
    "    max3=chunk3.max()\n",
    "    comm.Send(max3, dest=0)\n",
    "    print(\"El procesador\", rank,\"encontró\",max3)"
   ]
  },
  {
   "cell_type": "code",
   "execution_count": 26,
   "id": "34e95c3f",
   "metadata": {
    "scrolled": true
   },
   "outputs": [
    {
     "name": "stdout",
     "output_type": "stream",
     "text": [
      "El procesador 1 encontró 0.99999708\n",
      "El procesador 2 encontró 0.99999791\n",
      "El procesador 3 encontró 0.99999982\n",
      "El procesador 0 encontró [0.99999982]\n",
      "El proceso tomo 7.663603067398071 segundos\n"
     ]
    }
   ],
   "source": [
    "import time\n",
    "start = time.time()\n",
    "! mpiexec -n 4 python p3c.py\n",
    "end = time.time()\n",
    "print(\"El proceso tomo\",end - start,\"segundos\")"
   ]
  },
  {
   "cell_type": "markdown",
   "id": "94e18795",
   "metadata": {},
   "source": [
    "Vemos que encontramos el mismo máximo que en 3a, es decir 0.99999982. Vemos que toma más tiempo que con el código en 3a pero menos que con el código en 3b."
   ]
  },
  {
   "cell_type": "markdown",
   "id": "161d8780",
   "metadata": {},
   "source": [
    "#### d.\tComparar los tiempos registrados en 3a, 3b y 3c. ¿Hay una reducción del tiempo? ¿La reducción del tiempo es lineal? ¿Por qué?"
   ]
  },
  {
   "cell_type": "markdown",
   "id": "7d37d6af",
   "metadata": {},
   "source": [
    "El proceso que duró menos tiempo fue el 3a, seguido del 3c y luego el 3b. \n",
    "\n",
    "Curiosamente, el proceso no paralelizado (3a) fue el más rápido, por lo que al paralelizar hubo un aumento del tiempo. Esto puede deberse a que los procesos seriales de python están optimizados de tal formal que al paralelizar no hay una ganancia para un proceso relativamente simple.\n",
    "\n",
    "Sin embargo vemos que en 3c obtenemos un menor tiempo que en 3b. Esto se puede deber a que, una vez paralelizado, es más eficiente si aprovechamos y usamos una mayor cantidad de unidades de procesamiento.\n",
    "\n",
    "La reducción del tiempo entre 3c y 3b no es lineal pues hay procesos que no son paralelizables (por ejemplo la división de la base de datos) por lo que no se va a poder aprovechar los nuevos procesadores para dividir absolutamente todos los procesos entre ellos. "
   ]
  }
 ],
 "metadata": {
  "kernelspec": {
   "display_name": "Python 3 (ipykernel)",
   "language": "python",
   "name": "python3"
  },
  "language_info": {
   "codemirror_mode": {
    "name": "ipython",
    "version": 3
   },
   "file_extension": ".py",
   "mimetype": "text/x-python",
   "name": "python",
   "nbconvert_exporter": "python",
   "pygments_lexer": "ipython3",
   "version": "3.9.7"
  }
 },
 "nbformat": 4,
 "nbformat_minor": 5
}
