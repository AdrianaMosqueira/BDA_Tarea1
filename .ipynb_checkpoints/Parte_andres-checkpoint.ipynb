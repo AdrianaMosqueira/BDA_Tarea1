{
 "cells": [
  {
   "cell_type": "markdown",
   "id": "7726a2a9",
   "metadata": {},
   "source": [
    "Después de haber instalado MPI procedemos a importarlo así como las otras funciones que nos puedans servir como numpy"
   ]
  },
  {
   "cell_type": "code",
   "execution_count": 1,
   "id": "4f3c9e58",
   "metadata": {},
   "outputs": [],
   "source": [
    "from mpi4py import MPI\n",
    "import numpy as np\n",
    "import random\n",
    "import pandas as pd\n",
    "from numpy import genfromtxt"
   ]
  },
  {
   "cell_type": "markdown",
   "id": "1bb14dfc",
   "metadata": {},
   "source": [
    "Para comprobar que MPI se instaló correctamente, usamos el ejemplo visto en clase."
   ]
  },
  {
   "cell_type": "code",
   "execution_count": 2,
   "id": "61e0e680",
   "metadata": {},
   "outputs": [
    {
     "name": "stdout",
     "output_type": "stream",
     "text": [
      "Overwriting mpi_example1.py\n"
     ]
    }
   ],
   "source": [
    "%%writefile mpi_example1.py \n",
    "from mpi4py import MPI\n",
    "\n",
    "comm = MPI.COMM_WORLD # all available processors to communicate \n",
    "rank = comm.Get_rank() # give ranks to processors, local variable for e/ processor\n",
    "size = comm.Get_size() # each processor identifies the total processors \n",
    "\n",
    "print(\"Hello World from rank \", rank, \" out of \", size, \" processors \")"
   ]
  },
  {
   "cell_type": "code",
   "execution_count": 3,
   "id": "d9a3ca58",
   "metadata": {},
   "outputs": [
    {
     "name": "stdout",
     "output_type": "stream",
     "text": [
      "Hello World from rank  1  out of  4  processors \n",
      "Hello World from rank  2  out of  4  processors \n",
      "Hello World from rank  0  out of  4  processors \n",
      "Hello World from rank  3  out of  4  processors \n"
     ]
    }
   ],
   "source": [
    "! mpiexec -n 4 python mpi_example1.py"
   ]
  },
  {
   "cell_type": "markdown",
   "id": "1b4ed6b3",
   "metadata": {},
   "source": [
    "### Pregunta 2"
   ]
  },
  {
   "cell_type": "markdown",
   "id": "47e5b54a",
   "metadata": {},
   "source": [
    "#### a.Que un procesador genere dos numpy array diferentes, cada uno de 1,000,000 observaciones. Llamar “num1” y “num2” a estos numpy."
   ]
  },
  {
   "cell_type": "markdown",
   "id": "094cfa52",
   "metadata": {},
   "source": [
    "Con nuestro procesador de rango 0 generamos dos arrays de números aleatorios con 1 000 000 de observaciones cada uno que llamaremos \"num1\" y \"num2\"."
   ]
  },
  {
   "cell_type": "code",
   "execution_count": 1,
   "id": "d19038f9",
   "metadata": {},
   "outputs": [
    {
     "name": "stdout",
     "output_type": "stream",
     "text": [
      "Overwriting numpys.py\n"
     ]
    }
   ],
   "source": [
    "%%writefile numpys.py \n",
    "from mpi4py import MPI\n",
    "\n",
    "import numpy as np\n",
    "import random\n",
    "\n",
    "comm = MPI.COMM_WORLD\n",
    "rank = comm.Get_rank()\n",
    "size = comm.Get_size()\n",
    "\n",
    "np.random.seed(1102)\n",
    "\n",
    "if rank == 0:\n",
    "    num1 = np.random.random(1000000)\n",
    "    num2 = np.random.random(1000000)\n",
    "    print (\"El array num1 generado por el procesador\",rank,\"es\",num1)\n",
    "    print (\"El array num2 generado por el procesador\",rank,\"es\",num2)\n"
   ]
  },
  {
   "cell_type": "code",
   "execution_count": 4,
   "id": "f651a36b",
   "metadata": {},
   "outputs": [
    {
     "name": "stdout",
     "output_type": "stream",
     "text": [
      "El array num1 generado por el procesador 0 es [0.3051895  0.8090249  0.70315185 ... 0.99735614 0.81987858 0.19472251]\n",
      "El array num2 generado por el procesador 0 es [0.69826857 0.68300644 0.62900289 ... 0.54458017 0.73143874 0.12210111]\n"
     ]
    }
   ],
   "source": [
    "! mpiexec -n 1 python numpys.py"
   ]
  },
  {
   "cell_type": "markdown",
   "id": "9137efff",
   "metadata": {},
   "source": [
    "#### b.Enviar cada numpy a un procesador diferente. Que cada uno de los otros procesadores reciba su numpy"
   ]
  },
  {
   "cell_type": "markdown",
   "id": "3ac17800",
   "metadata": {},
   "source": [
    "Procedemos a enviar \"num1\" al procesador de rango 1 y \"num2\" al procesador de rango 2."
   ]
  },
  {
   "cell_type": "code",
   "execution_count": 109,
   "id": "a32b95aa",
   "metadata": {},
   "outputs": [
    {
     "name": "stdout",
     "output_type": "stream",
     "text": [
      "Overwriting numpys2.py\n"
     ]
    }
   ],
   "source": [
    "%%writefile numpys2.py \n",
    "from mpi4py import MPI\n",
    "\n",
    "import numpy as np\n",
    "import random\n",
    "\n",
    "comm = MPI.COMM_WORLD\n",
    "rank = comm.Get_rank()\n",
    "size = comm.Get_size()\n",
    "\n",
    "if rank == 0:\n",
    "    random.seed (1102)\n",
    "    num1 = np.random.random(1000000)\n",
    "    num2 = np.random.random(1000000)\n",
    "    comm.Send(num1, dest=1)\n",
    "    comm.Send(num2, dest=2)\n",
    "elif rank == 1:\n",
    "    num1 = np.empty(1000000)\n",
    "    comm.Recv(num1, source=0)\n",
    "    print (\"El procesador\",rank,\"recibio\",num1)\n",
    "elif rank == 2:\n",
    "    num2 = np.empty(1000000)\n",
    "    comm.Recv(num2, source=0)\n",
    "    print (\"El procesador\",rank,\"recibio\",num2)"
   ]
  },
  {
   "cell_type": "code",
   "execution_count": 110,
   "id": "5cf93242",
   "metadata": {},
   "outputs": [
    {
     "name": "stdout",
     "output_type": "stream",
     "text": [
      "El procesador 1 recibio [0.2384333  0.3055615  0.19520407 ... 0.95627573 0.03589743 0.08484793]\n",
      "El procesador 2 recibio [0.54252804 0.56189207 0.26866405 ... 0.0352837  0.585326   0.6576321 ]\n"
     ]
    }
   ],
   "source": [
    "! mpiexec -n 3 python numpys2.py"
   ]
  },
  {
   "cell_type": "markdown",
   "id": "05d106b5",
   "metadata": {},
   "source": [
    "#### c. Que otro procesador (que no haya recibido nada) reciba “num1” y “num2” y los imprima."
   ]
  },
  {
   "cell_type": "markdown",
   "id": "30daf927",
   "metadata": {},
   "source": [
    "Procedemos a enviar \"num1\" desde nuestro procesador de rango 1 y \"num2\" desde nuestro procesador de rango 2 a nuestro procesador de rango 3. "
   ]
  },
  {
   "cell_type": "code",
   "execution_count": 111,
   "id": "76deb5d6",
   "metadata": {},
   "outputs": [
    {
     "name": "stdout",
     "output_type": "stream",
     "text": [
      "Overwriting parte2_2.py\n"
     ]
    }
   ],
   "source": [
    "%%writefile parte2_2.py \n",
    "from mpi4py import MPI\n",
    "\n",
    "import numpy as np\n",
    "import random\n",
    "\n",
    "comm = MPI.COMM_WORLD\n",
    "rank = comm.Get_rank()\n",
    "size = comm.Get_size()\n",
    "\n",
    "if rank == 0:\n",
    "    random.seed (1102)\n",
    "    num1 = np.random.random(1000000)\n",
    "    num2 = np.random.random(1000000)\n",
    "    comm.Send(num1, dest=1)\n",
    "    comm.Send(num2, dest=2)\n",
    "elif rank == 1:\n",
    "    num1 = np.empty(1000000)\n",
    "    comm.Recv(num1, source=0)\n",
    "    comm.Send(num1, dest=3)\n",
    "elif rank == 2:\n",
    "    num2 = np.empty(1000000)\n",
    "    comm.Recv(num2, source=0)\n",
    "    comm.Send(num2, dest=3)\n",
    "elif rank == 3:\n",
    "    num1 = np.empty(1000000)\n",
    "    comm.Recv(num1, source=1)\n",
    "    num2 = np.empty(1000000)\n",
    "    comm.Recv(num2, source=2)\n",
    "    print (\"El procesador\", rank ,\"recibio\",num1)\n",
    "    print (\"El procesador\", rank, \"recibio\",num2)"
   ]
  },
  {
   "cell_type": "markdown",
   "id": "37e2ee2c",
   "metadata": {},
   "source": [
    "#### d.\tEjecute el código creado y registre el tiempo que toma realizar este ejercicio."
   ]
  },
  {
   "cell_type": "markdown",
   "id": "f88d375f",
   "metadata": {},
   "source": [
    "Procedemos a ejecutar nuestro último código. Registramos el tiempo de ejecución en nuestro código."
   ]
  },
  {
   "cell_type": "code",
   "execution_count": 73,
   "id": "ff06fb06",
   "metadata": {},
   "outputs": [
    {
     "name": "stdout",
     "output_type": "stream",
     "text": [
      "El procesador 3 recibio [0.33677826 0.04944862 0.7758516  ... 0.28727552 0.78334879 0.27619941]\n",
      "El procesador 3 recibio [0.4747214  0.22562945 0.0812673  ... 0.70758399 0.43023075 0.43450976]\n",
      "El proceso tomo 1.0445482730865479 segundos\n"
     ]
    }
   ],
   "source": [
    "import time\n",
    "start = time.time()\n",
    "! mpiexec -n 4 python parte2_2.py\n",
    "end = time.time()\n",
    "print(\"El proceso tomo\",end - start,\"segundos\")"
   ]
  },
  {
   "cell_type": "markdown",
   "id": "6f694578",
   "metadata": {},
   "source": [
    "e.\tEn otro chunk responda: ¿existe una manera de agilizar este proceso con las herramientas de MPI? Sea detallado en su respuesta y argumentos."
   ]
  },
  {
   "cell_type": "markdown",
   "id": "ab789fe0",
   "metadata": {},
   "source": []
  },
  {
   "cell_type": "markdown",
   "id": "8bc4b94f",
   "metadata": {},
   "source": [
    "### Pregunta 3"
   ]
  },
  {
   "cell_type": "markdown",
   "id": "ccec7906",
   "metadata": {},
   "source": [
    "Generamos un numpy array que almacene el archivo: “tarea2.csv”, vemos cuantos elementos contiene y calculamos el máximo para tenerlo como referencia para las siguientes preguntas."
   ]
  },
  {
   "cell_type": "code",
   "execution_count": 76,
   "id": "ed50402a",
   "metadata": {},
   "outputs": [
    {
     "name": "stdout",
     "output_type": "stream",
     "text": [
      "Vemos que la base de datos tiene (1048575,) elementos.\n"
     ]
    }
   ],
   "source": [
    "from numpy import genfromtxt\n",
    "tarea2 = genfromtxt('tarea2.csv', delimiter=',')\n",
    "print(\"Vemos que la base de datos tiene\",tarea2.shape,\"elementos.\")"
   ]
  },
  {
   "cell_type": "code",
   "execution_count": 75,
   "id": "7e14481d",
   "metadata": {},
   "outputs": [
    {
     "name": "stdout",
     "output_type": "stream",
     "text": [
      "El máximo que deberíamos encontrar en cada proceso es 0.99999982\n"
     ]
    }
   ],
   "source": [
    "print(\"El máximo que deberíamos encontrar en cada proceso es\",tarea2.max())"
   ]
  },
  {
   "cell_type": "markdown",
   "id": "e53b46b7",
   "metadata": {},
   "source": [
    "#### a.\tEscribir un código que halle el valor máximo de “tarea2” usando un procesador. Imprimir el valor máximo. Registrar el tiempo de demora."
   ]
  },
  {
   "cell_type": "code",
   "execution_count": 116,
   "id": "28e6df52",
   "metadata": {},
   "outputs": [
    {
     "name": "stdout",
     "output_type": "stream",
     "text": [
      "Overwriting p3a.py\n"
     ]
    }
   ],
   "source": [
    "%%writefile p3a.py \n",
    "from mpi4py import MPI\n",
    "\n",
    "import numpy as np\n",
    "import random\n",
    "from numpy import genfromtxt\n",
    "\n",
    "comm = MPI.COMM_WORLD\n",
    "rank = comm.Get_rank()\n",
    "size = comm.Get_size()\n",
    "\n",
    "if rank == 0:\n",
    "    tarea2 = genfromtxt('tarea2.csv', delimiter=',')\n",
    "    maximo = tarea2.max()\n",
    "    print(\"Nuestro máximo es efectivamente\",maximo)"
   ]
  },
  {
   "cell_type": "code",
   "execution_count": 119,
   "id": "beefec54",
   "metadata": {},
   "outputs": [
    {
     "name": "stdout",
     "output_type": "stream",
     "text": [
      "Nuestro máximo es efectivamente 0.99999982\n",
      "El proceso tomó 3.4078052043914795 segundos\n"
     ]
    }
   ],
   "source": [
    "import time\n",
    "start = time.time()\n",
    "! mpiexec -n 1 python p3a.py\n",
    "end = time.time()\n",
    "print(\"El proceso tomó\",end - start,\"segundos\")"
   ]
  },
  {
   "cell_type": "markdown",
   "id": "51dd7495",
   "metadata": {},
   "source": [
    "#### b.\tEscribir un código que realice las siguientes indicaciones. Dividir el numpy en dos partes iguales. Que dos procesadores distintos encuentren el máximo de cada parte. Que otro procesador junte los máximos hallados y encuentre el máximo global. Este resultado debe ser igual al de 3a. Registrar el tiempo de demora."
   ]
  },
  {
   "cell_type": "markdown",
   "id": "0a052bbe",
   "metadata": {},
   "source": [
    "Primero dividimos el numpy en 2 chunks fuera del código a manera de test y también para averiguar el tamaño de cada chunk pues necesitaremos esa información en nuestro código MPI."
   ]
  },
  {
   "cell_type": "code",
   "execution_count": 88,
   "id": "557639bf",
   "metadata": {},
   "outputs": [
    {
     "data": {
      "text/plain": [
       "[array([0.34887171, 0.2668857 , 0.1366463 , ..., 0.57128704, 0.81662822,\n",
       "        0.24393123]),\n",
       " array([0.71707726, 0.31591403, 0.57266182, ..., 0.48673952, 0.09359856,\n",
       "        0.93271565])]"
      ]
     },
     "execution_count": 88,
     "metadata": {},
     "output_type": "execute_result"
    }
   ],
   "source": [
    "tarea2_chunk = np.array_split(tarea2, 2)\n",
    "tarea2_chunk"
   ]
  },
  {
   "cell_type": "code",
   "execution_count": 86,
   "id": "476b287c",
   "metadata": {},
   "outputs": [
    {
     "name": "stdout",
     "output_type": "stream",
     "text": [
      "El tamaño de nuestro primer chunk es 524288\n"
     ]
    }
   ],
   "source": [
    "print(\"El tamaño de nuestro primer chunk es\",tarea2_chunk[0].size)"
   ]
  },
  {
   "cell_type": "code",
   "execution_count": 89,
   "id": "2ca585fe",
   "metadata": {},
   "outputs": [
    {
     "name": "stdout",
     "output_type": "stream",
     "text": [
      "El tamaño de nuestro segundo chunk es 524287\n"
     ]
    }
   ],
   "source": [
    "print(\"El tamaño de nuestro segundo chunk es\",tarea2_chunk[1].size)"
   ]
  },
  {
   "cell_type": "markdown",
   "id": "c1ccd534",
   "metadata": {},
   "source": [
    "Escribimos un código donde el procesador 0 divide el MPI y envía los 2 chunks a los procesadores 1 y 2. \n",
    "Los procesadores 1 y 2 calculan el máximo del chunk que recibieron.\n",
    "El procesador 3 recibe los máximos de los procesadores 1 y 2 calcula el máximo global a partir de ahí."
   ]
  },
  {
   "cell_type": "code",
   "execution_count": 149,
   "id": "2eef1f64",
   "metadata": {},
   "outputs": [
    {
     "name": "stdout",
     "output_type": "stream",
     "text": [
      "Overwriting p3b.py\n"
     ]
    }
   ],
   "source": [
    "%%writefile p3b.py \n",
    "from mpi4py import MPI\n",
    "\n",
    "import numpy as np\n",
    "import pandas as pd\n",
    "import random\n",
    "from numpy import genfromtxt\n",
    "\n",
    "\n",
    "comm = MPI.COMM_WORLD\n",
    "rank = comm.Get_rank()\n",
    "size = comm.Get_size()\n",
    "\n",
    "if rank == 0:\n",
    "    tarea2 = genfromtxt('tarea2.csv', delimiter=',')\n",
    "    tarea2_chunk = np.array_split(tarea2, 2)\n",
    "    chunk1=tarea2_chunk[0]\n",
    "    chunk2=tarea2_chunk[1]\n",
    "    comm.Send(chunk1, dest=1)\n",
    "    comm.Send(chunk2, dest=2)\n",
    "elif rank == 1:\n",
    "    chunk1 = np.empty(524288)\n",
    "    comm.Recv(chunk1, source=0)\n",
    "    max1=chunk1.max()\n",
    "    comm.Send(max1, dest=3)\n",
    "    print(\"El procesador\", rank,\"encontró\",max1)\n",
    "elif rank == 2:\n",
    "    chunk2 = np.empty(524287)\n",
    "    comm.Recv(chunk2, source=0)\n",
    "    max2=chunk2.max()\n",
    "    comm.Send(max2, dest=3)\n",
    "    print(\"El procesador\", rank,\"encontró\",max2)\n",
    "elif rank == 3:\n",
    "    max1 = np.empty(1)\n",
    "    max2 = np.empty(1)\n",
    "    comm.Recv(max1, source=1)\n",
    "    comm.Recv(max2, source=2)\n",
    "    max3=max(max1,max2)\n",
    "    print(\"El procesador\",rank,\"encontró\",max3)"
   ]
  },
  {
   "cell_type": "code",
   "execution_count": 150,
   "id": "10c0be51",
   "metadata": {},
   "outputs": [
    {
     "name": "stdout",
     "output_type": "stream",
     "text": [
      "El procesador 1 encontró 0.99999791El proceso tomo 7.935751438140869 segundos\n",
      "\n",
      "El procesador 2 encontró 0.99999982\n",
      "El procesador 3 encontró [0.99999982]\n"
     ]
    }
   ],
   "source": [
    "import time\n",
    "start = time.time()\n",
    "! mpiexec -n 4 python p3b.py\n",
    "end = time.time()\n",
    "print(\"El proceso tomo\",end - start,\"segundos\")"
   ]
  },
  {
   "cell_type": "markdown",
   "id": "f1abb296",
   "metadata": {},
   "source": [
    "Vemos que encontramos el mismo máximo que en 3a, es decir 0.99999982."
   ]
  },
  {
   "cell_type": "markdown",
   "id": "4051b89c",
   "metadata": {},
   "source": [
    "Probamos una alternativa donde la generación de los chunks no se hace usando MPI (no se asigna a ningún procesador en particular). Aquí los procesadores 0 y 1 toman cada uno de los 2 chunks y hallan los máximos locales mientras que el procesador 2 recibe estos máximos y halla el máximo global. "
   ]
  },
  {
   "cell_type": "code",
   "execution_count": 151,
   "id": "1e0b194c",
   "metadata": {},
   "outputs": [
    {
     "name": "stdout",
     "output_type": "stream",
     "text": [
      "Overwriting p3b2.py\n"
     ]
    }
   ],
   "source": [
    "%%writefile p3b2.py \n",
    "from mpi4py import MPI\n",
    "\n",
    "import numpy as np\n",
    "import pandas as pd\n",
    "import random\n",
    "from numpy import genfromtxt\n",
    "\n",
    "comm = MPI.COMM_WORLD\n",
    "rank = comm.Get_rank()\n",
    "size = comm.Get_size()\n",
    "\n",
    "tarea2 = genfromtxt('tarea2.csv', delimiter=',')\n",
    "tarea2_chunk = np.array_split(tarea2, 2)\n",
    "chunk1=tarea2_chunk[0]\n",
    "chunk2=tarea2_chunk[1]\n",
    "\n",
    "if rank == 0:    \n",
    "    max1=chunk1.max()\n",
    "    comm.Send(max1, dest=2)\n",
    "    print(\"El procesador\", rank, \"encontró\",max1)\n",
    "elif rank == 1:\n",
    "    max2=chunk2.max()\n",
    "    comm.Send(max2, dest=2)\n",
    "    print(\"El procesador\",rank,\"encontró\",max2)\n",
    "elif rank == 2:\n",
    "    max1 = np.empty(1)\n",
    "    max2 = np.empty(1)\n",
    "    comm.Recv(max1, source=0)\n",
    "    comm.Recv(max2, source=1)\n",
    "    maxtot=max(max1,max2)\n",
    "    print(\"El procesador\",rank,\"encontró\",maxtot)"
   ]
  },
  {
   "cell_type": "code",
   "execution_count": 152,
   "id": "fe543520",
   "metadata": {},
   "outputs": [
    {
     "name": "stdout",
     "output_type": "stream",
     "text": [
      "El procesador 1 encontró 0.99999982\n",
      "El procesador 0 encontró 0.99999791\n",
      "El procesador 2 encontró [0.99999982]\n",
      "El proceso tomo 8.660772562026978 segundos\n"
     ]
    }
   ],
   "source": [
    "import time\n",
    "start = time.time()\n",
    "! mpiexec -n 3 python p3b2.py\n",
    "end = time.time()\n",
    "print(\"El proceso tomo\",end - start,\"segundos\")"
   ]
  },
  {
   "cell_type": "markdown",
   "id": "9519fc52",
   "metadata": {},
   "source": [
    "Este método parece ser menos eficiente que si asignamos la primera tarea a un procesador. Por ende los descartamos."
   ]
  },
  {
   "cell_type": "markdown",
   "id": "0a6101ff",
   "metadata": {},
   "source": [
    "#### c.\tRepetir 3b dividiendo el numpy original en tres partes. Registrar el tiempo de demora."
   ]
  },
  {
   "cell_type": "markdown",
   "id": "7098cfe3",
   "metadata": {},
   "source": [
    "De nuevo vemos cual es el tamaño de los arrays."
   ]
  },
  {
   "cell_type": "code",
   "execution_count": 127,
   "id": "fb7c3449",
   "metadata": {},
   "outputs": [
    {
     "data": {
      "text/plain": [
       "[array([0.34887171, 0.2668857 , 0.1366463 , ..., 0.05235301, 0.60290039,\n",
       "        0.51786804]),\n",
       " array([0.94508648, 0.17400229, 0.74788725, ..., 0.19144469, 0.04561006,\n",
       "        0.76499122]),\n",
       " array([0.90580344, 0.27597395, 0.377038  , ..., 0.48673952, 0.09359856,\n",
       "        0.93271565])]"
      ]
     },
     "execution_count": 127,
     "metadata": {},
     "output_type": "execute_result"
    }
   ],
   "source": [
    "tarea2_chunk2 = np.array_split(tarea2, 3)\n",
    "tarea2_chunk2"
   ]
  },
  {
   "cell_type": "code",
   "execution_count": 131,
   "id": "73ece6c9",
   "metadata": {},
   "outputs": [
    {
     "name": "stdout",
     "output_type": "stream",
     "text": [
      "El tamaño de nuestro primer chunk es 349525\n"
     ]
    }
   ],
   "source": [
    "print(\"El tamaño de nuestro primer chunk es\",tarea2_chunk2[0].size)"
   ]
  },
  {
   "cell_type": "code",
   "execution_count": 132,
   "id": "5e480b4a",
   "metadata": {},
   "outputs": [
    {
     "name": "stdout",
     "output_type": "stream",
     "text": [
      "El tamaño de nuestro segundo chunk es 349525\n"
     ]
    }
   ],
   "source": [
    "print(\"El tamaño de nuestro segundo chunk es\",tarea2_chunk2[1].size)"
   ]
  },
  {
   "cell_type": "code",
   "execution_count": 133,
   "id": "32f555fd",
   "metadata": {},
   "outputs": [
    {
     "name": "stdout",
     "output_type": "stream",
     "text": [
      "El tamaño de nuestro tercer chunk es 349525\n"
     ]
    }
   ],
   "source": [
    "print(\"El tamaño de nuestro tercer chunk es\",tarea2_chunk2[2].size)"
   ]
  },
  {
   "cell_type": "markdown",
   "id": "964737f6",
   "metadata": {},
   "source": [
    "Escribimos un código donde el procesador 0 divide el MPI y envía los 3 chunks a los procesadores 1, 2 y 3. \n",
    "Los procesadores 1, 2 y 3 calculan el máximo del chunk que recibieron.\n",
    "El procesador 0 recibe los máximos de los procesadores 1, 2 y 3 y calcula el máximo global a partir de ahí."
   ]
  },
  {
   "cell_type": "code",
   "execution_count": 194,
   "id": "4d8531f8",
   "metadata": {},
   "outputs": [
    {
     "name": "stdout",
     "output_type": "stream",
     "text": [
      "Overwriting p3c.py\n"
     ]
    }
   ],
   "source": [
    "%%writefile p3c.py \n",
    "from mpi4py import MPI\n",
    "\n",
    "import numpy as np\n",
    "import pandas as pd\n",
    "import random\n",
    "from numpy import genfromtxt\n",
    "\n",
    "\n",
    "comm = MPI.COMM_WORLD\n",
    "rank = comm.Get_rank()\n",
    "size = comm.Get_size()\n",
    "\n",
    "if rank == 0:\n",
    "    tarea2 = genfromtxt('tarea2.csv', delimiter=',')\n",
    "    tarea2_chunk = np.array_split(tarea2, 3)\n",
    "    chunk1=tarea2_chunk[0]\n",
    "    chunk2=tarea2_chunk[1]\n",
    "    chunk3=tarea2_chunk[2]\n",
    "    comm.Send(chunk1, dest=1)\n",
    "    comm.Send(chunk2, dest=2)\n",
    "    comm.Send(chunk3, dest=3)\n",
    "    max1 = np.empty(1)\n",
    "    max2 = np.empty(1)\n",
    "    max3 = np.empty(1)\n",
    "    comm.Recv(max1, source=1)\n",
    "    comm.Recv(max2, source=2)\n",
    "    comm.Recv(max3, source=3)                    \n",
    "    maxtot=max(max1,max2,max3)\n",
    "    print(\"El procesador\",rank,\"encontró\",maxtot)    \n",
    "elif rank == 1:\n",
    "    chunk1 = np.empty(349525)\n",
    "    comm.Recv(chunk1, source=0)\n",
    "    max1=chunk1.max()\n",
    "    comm.Send(max1, dest=0)\n",
    "    print(\"El procesador\", rank,\"encontró\",max1)\n",
    "elif rank == 2:\n",
    "    chunk2 = np.empty(349525)\n",
    "    comm.Recv(chunk2, source=0)\n",
    "    max2=chunk2.max()\n",
    "    comm.Send(max2, dest=0)\n",
    "    print(\"El procesador\", rank,\"encontró\",max2)\n",
    "elif rank == 3:\n",
    "    chunk3 = np.empty(349525)\n",
    "    comm.Recv(chunk3, source=0)\n",
    "    max3=chunk3.max()\n",
    "    comm.Send(max3, dest=0)\n",
    "    print(\"El procesador\", rank,\"encontró\",max3)"
   ]
  },
  {
   "cell_type": "code",
   "execution_count": 196,
   "id": "34e95c3f",
   "metadata": {},
   "outputs": [
    {
     "name": "stdout",
     "output_type": "stream",
     "text": [
      "El procesador 1 encontró 0.99999708\n",
      "El procesador 2 encontró 0.99999791\n",
      "El procesador 3 encontró 0.99999982\n",
      "El procesador 0 encontró [0.99999982]\n",
      "El proceso tomo 7.46843147277832 segundos\n"
     ]
    }
   ],
   "source": [
    "import time\n",
    "start = time.time()\n",
    "! mpiexec -n 4 python p3c.py\n",
    "end = time.time()\n",
    "print(\"El proceso tomo\",end - start,\"segundos\")"
   ]
  },
  {
   "cell_type": "markdown",
   "id": "7a714917",
   "metadata": {},
   "source": [
    "Solo por curiosidad, intentaremos con la división de chunks no asignada a ningún proceso."
   ]
  },
  {
   "cell_type": "code",
   "execution_count": 203,
   "id": "de43b60e",
   "metadata": {},
   "outputs": [
    {
     "name": "stdout",
     "output_type": "stream",
     "text": [
      "Overwriting p3c2.py\n"
     ]
    }
   ],
   "source": [
    "%%writefile p3c2.py \n",
    "from mpi4py import MPI\n",
    "\n",
    "import numpy as np\n",
    "import pandas as pd\n",
    "import random\n",
    "from numpy import genfromtxt\n",
    "\n",
    "comm = MPI.COMM_WORLD\n",
    "rank = comm.Get_rank()\n",
    "size = comm.Get_size()\n",
    "\n",
    "tarea2 = genfromtxt('tarea2.csv', delimiter=',')\n",
    "tarea2_chunk = np.array_split(tarea2, 3)\n",
    "chunk1=tarea2_chunk[0]\n",
    "chunk2=tarea2_chunk[1]\n",
    "chunk3=tarea2_chunk[2]\n",
    "\n",
    "if rank == 0:    \n",
    "    max1=chunk1.max()\n",
    "    comm.Send(max1, dest=3)\n",
    "    print(\"El procesador\", rank, \"encontró\",max1)\n",
    "elif rank == 1:\n",
    "    max2=chunk2.max()\n",
    "    comm.Send(max2, dest=3)\n",
    "    print(\"El procesador\",rank,\"encontró\",max2)\n",
    "elif rank == 2:\n",
    "    max3=chunk3.max()\n",
    "    comm.Send(max3, dest=3)\n",
    "    print(\"El procesador\",rank,\"encontró\",max3)\n",
    "elif rank == 3:\n",
    "    max1 = np.empty(1)\n",
    "    max2 = np.empty(1)\n",
    "    max3 = np.empty(1)\n",
    "    comm.Recv(max1, source=0)\n",
    "    comm.Recv(max2, source=1)\n",
    "    comm.Recv(max3, source=2)\n",
    "    maxtot=max(max1,max2,max3)\n",
    "    print(\"El procesador\",rank,\"encontró\",maxtot)"
   ]
  },
  {
   "cell_type": "code",
   "execution_count": 204,
   "id": "a77e21a8",
   "metadata": {},
   "outputs": [
    {
     "name": "stdout",
     "output_type": "stream",
     "text": [
      "El procesador 0 encontró 0.99999708\n",
      "El procesador 1 encontró 0.99999791\n",
      "El procesador 2 encontró 0.99999982\n",
      "El procesador 3 encontró [0.99999982]\n",
      "El proceso tomo 8.589226245880127 segundos\n"
     ]
    }
   ],
   "source": [
    "import time\n",
    "start = time.time()\n",
    "! mpiexec -n 4 python p3c2.py\n",
    "end = time.time()\n",
    "print(\"El proceso tomo\",end - start,\"segundos\")"
   ]
  },
  {
   "cell_type": "markdown",
   "id": "d8e889bb",
   "metadata": {},
   "source": [
    "Podemos ver que si no se asigna la partición de la base de datos el tiempo tomado es considerablemente mayor"
   ]
  },
  {
   "cell_type": "code",
   "execution_count": 189,
   "id": "5668c184",
   "metadata": {},
   "outputs": [
    {
     "name": "stdout",
     "output_type": "stream",
     "text": [
      "Overwriting p3scatter.py\n"
     ]
    }
   ],
   "source": [
    "%%writefile p3scatter.py \n",
    "from mpi4py import MPI\n",
    "\n",
    "import numpy as np\n",
    "import pandas as pd\n",
    "import random\n",
    "from numpy import genfromtxt\n",
    "\n",
    "\n",
    "comm = MPI.COMM_WORLD\n",
    "rank = comm.Get_rank()\n",
    "size = comm.Get_size()\n",
    "\n",
    "if rank == 0:\n",
    "    tarea2 = genfromtxt('tarea2.csv', delimiter=',')\n",
    "    data = np.array_split(tarea2, 3)\n",
    "else:\n",
    "    data_s=np.empty(349525)\n",
    "comm.Scatter(data,data_s,root=0)"
   ]
  },
  {
   "cell_type": "code",
   "execution_count": 190,
   "id": "13b5c66b",
   "metadata": {},
   "outputs": [
    {
     "name": "stdout",
     "output_type": "stream",
     "text": [
      "El proceso tomo 7.39187479019165 segundos\n"
     ]
    },
    {
     "name": "stderr",
     "output_type": "stream",
     "text": [
      "Traceback (most recent call last):\n",
      "  File \"p3scatter.py\", line 18, in <module>\n",
      "    comm.Scatter(data,data_s,root=0)\n",
      "NameError: name 'data' is not defined\n",
      "Traceback (most recent call last):\n",
      "  File \"p3scatter.py\", line 18, in <module>\n",
      "    comm.Scatter(data,data_s,root=0)\n",
      "NameError: name 'data' is not defined\n",
      "Traceback (most recent call last):\n",
      "  File \"p3scatter.py\", line 18, in <module>\n",
      "    comm.Scatter(data,data_s,root=0)\n",
      "NameError: name 'data' is not defined\n",
      "Traceback (most recent call last):\n",
      "  File \"p3scatter.py\", line 18, in <module>\n",
      "    comm.Scatter(data,data_s,root=0)\n",
      "NameError: name 'data_s' is not defined\n"
     ]
    }
   ],
   "source": [
    "import time\n",
    "start = time.time()\n",
    "! mpiexec -n 4 python p3scatter.py\n",
    "end = time.time()\n",
    "print(\"El proceso tomo\",end - start,\"segundos\")"
   ]
  },
  {
   "cell_type": "code",
   "execution_count": 148,
   "id": "64067470",
   "metadata": {},
   "outputs": [
    {
     "name": "stdout",
     "output_type": "stream",
     "text": [
      "El procesador 1 encontró 0.99999708\n",
      "El procesador 2 encontró 0.99999791\n",
      "El procesador 3 encontró 0.99999982\n",
      "El proceso tomo 6.837156057357788 segundos\n"
     ]
    }
   ],
   "source": []
  },
  {
   "cell_type": "markdown",
   "id": "161d8780",
   "metadata": {},
   "source": [
    "d.\tComparar los tiempos registrados en 3a, 3b y 3c. ¿Hay una reducción del tiempo? ¿La reducción del tiempo es lineal? ¿Por qué?"
   ]
  },
  {
   "cell_type": "markdown",
   "id": "7d37d6af",
   "metadata": {},
   "source": [
    "Hay un aumento del tiempo. \n",
    "\n",
    "La reducción del tiempo no es lineal pues hay procesos que no son paralelizables (por ejemplo la división de la base de datos) por lo que no se va a poder aprovechar los nuevos procesadores para dividir absolutamente todos los procesos entre ellos. "
   ]
  }
 ],
 "metadata": {
  "kernelspec": {
   "display_name": "Python 3",
   "language": "python",
   "name": "python3"
  },
  "language_info": {
   "codemirror_mode": {
    "name": "ipython",
    "version": 3
   },
   "file_extension": ".py",
   "mimetype": "text/x-python",
   "name": "python",
   "nbconvert_exporter": "python",
   "pygments_lexer": "ipython3",
   "version": "3.8.8"
  }
 },
 "nbformat": 4,
 "nbformat_minor": 5
}
