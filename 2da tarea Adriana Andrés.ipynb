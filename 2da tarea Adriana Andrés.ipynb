{
 "cells": [
  {
   "cell_type": "markdown",
   "id": "b21fceda",
   "metadata": {},
   "source": [
    "## Parte I"
   ]
  },
  {
   "cell_type": "markdown",
   "id": "f9edd2f1",
   "metadata": {},
   "source": [
    "#### Responda las siguientes preguntas en 200 palabras o menos (2 puntos cada una)"
   ]
  },
  {
   "cell_type": "markdown",
   "id": "4b8271e0",
   "metadata": {},
   "source": [
    "1.\t¿Qué es un proceso embarrassingly parallel y uno inherentemente serial? Dé un ejemplo de cada uno (distintos a los vistos en clase)\n",
    "\n",
    "El proceso de convertir un programa serial o algoritmo en un programa paralelo es denominado paralelilazación, y los programas que pueden ser paralelizado por una simple división del trabajo entre los procesos son conocidos como “embarrassingly parallel”. Un ejemplo de ello es la renderización de infografías, utilizada en la animación por computadora, para la cual cada fotograma o píxel se puede renderizar de forma independiente (renderizado paralelo ). Sin embargo, no es posible que todos los procesos o algoritmos sean paralelizables, a estos se les denomina procesos inherentemente serial, por ejemplo: el muestreo de Gibbs (algoritmo de la cadena de Markov Monte Carlo - MCMC), usado para obtener una secuencia de observaciones que se aproximan a partir de una distribución de probabilidad multivariante, cuando el muestreo directo es difícil y usado comúnmente en la inferencia bayesiana. Este algoritmo es secuencial por naturaleza, es decir, se muestrea una variable aleatoria condicionada a todas las demás variables aleatorias. Si bien, este problema se puede absolver realizando un muestreo por bloques, es ineficiente pues implica un cálculo mucho más extenso"
   ]
  },
  {
   "cell_type": "markdown",
   "id": "19518059",
   "metadata": {},
   "source": [
    "2.\t¿Qué cuellos de botella puede enfrentar al paralelizar un proceso? Relaciónelo con la ley de Amdahl/Gustafson \n",
    "\n",
    "Uno de los principales cuellos de botella de un proceso de paralelización, es que podemos encontrar procesos que solo pueden ser paralelizables parcialmente, es decir que un parte del proceso sea “inherentemente en serie”, lo cual impide que la paralelización sea completa. En este sentido, la ley de Amdhl señala que a menos que se paralelice prácticamente todo el programa en serie, el aumento de la velocidad posiblemente sea muy limitado, incluso si el número de núcleos es elevado. Entonces, esta velocidad no podrá ser mayor a 1/r, incluso si r es bastante pequeño, no se podrá obtener una velocidad superior a r. Sin embargo, este problema no debe preocuparnos demasiado, pues la ley de Amdhl no toma en cuenta el tamaño de problema, el cual al ser más grande puede llegar a reducir la fracción “inherentemente serial” del programa, esta ley es conocida como la ley de Gustafson."
   ]
  },
  {
   "cell_type": "markdown",
   "id": "a3dc4b70",
   "metadata": {},
   "source": [
    "3.\t¿En qué se diferencia un CPU de un GPU? Dé un ejemplo de un proceso que convendría paralelizar en cada uno de estos tipos de unidad de procesamiento. \n",
    "\n",
    "La principal diferencia se encuentra en la cantidad de núcleos que poseen, tanto un CPU y un GPU, los cuales condicionan las tareas que pueden o no cumplir. En cuanto al CPU tiene unos cuantos núcleos optimizados para el procesamiento en serie secuencial, convirtiéndolo en un potente motor de ejecución, que centra su reducido número de núcleos en realizar tareas individuales rápidamente. Por su parte, un GPU cuenta con una arquitectura en paralelo más grande que consiste de mieles de núcleos más pequeños y eficaces, y que se diseñaron para resolver varias tareas al mismo tiempo. "
   ]
  },
  {
   "cell_type": "markdown",
   "id": "1b18e1ba",
   "metadata": {},
   "source": [
    "4.\tPiense en una tarea serial que le han encargado paralelizar. Describa el diseño de la implementación en paralelo de dicha tarea siguiente el método de Foster y los cuatro elementos que lo componen.\n",
    "\n"
   ]
  },
  {
   "cell_type": "markdown",
   "id": "f479cadd",
   "metadata": {},
   "source": [
    "## Parte II"
   ]
  },
  {
   "cell_type": "markdown",
   "id": "38a0439e",
   "metadata": {},
   "source": [
    "### Pregunta 1"
   ]
  },
  {
   "cell_type": "markdown",
   "id": "8f56e913",
   "metadata": {},
   "source": [
    "#### Escribir un código (“parte2_1.py”) que realice lo siguiente:"
   ]
  },
  {
   "cell_type": "markdown",
   "id": "d9bd1654",
   "metadata": {},
   "source": [
    "a.\tQue un procesador genere un diccionario y lo envíe a otros tres procesadores."
   ]
  },
  {
   "cell_type": "code",
   "execution_count": null,
   "id": "5b7ddb07",
   "metadata": {},
   "outputs": [],
   "source": []
  },
  {
   "cell_type": "code",
   "execution_count": null,
   "id": "f7c63543",
   "metadata": {},
   "outputs": [],
   "source": []
  },
  {
   "cell_type": "code",
   "execution_count": null,
   "id": "3aba10d2",
   "metadata": {},
   "outputs": [],
   "source": []
  },
  {
   "cell_type": "markdown",
   "id": "f8a3656a",
   "metadata": {},
   "source": [
    "b.\tQue cada uno de los tres procesadores reciba el diccionario enviado, imprima su número de procesador y el diccionario. "
   ]
  },
  {
   "cell_type": "code",
   "execution_count": null,
   "id": "c483f7f0",
   "metadata": {},
   "outputs": [],
   "source": []
  },
  {
   "cell_type": "code",
   "execution_count": null,
   "id": "2076f3a9",
   "metadata": {},
   "outputs": [],
   "source": []
  },
  {
   "cell_type": "code",
   "execution_count": null,
   "id": "5ea1c056",
   "metadata": {},
   "outputs": [],
   "source": []
  },
  {
   "cell_type": "markdown",
   "id": "34bc4740",
   "metadata": {},
   "source": [
    "c.\tEn otro chunk responda: Si usted ejecutara el código 10 veces, ¿el orden de los resultados sería siempre igual? ¿Por qué?"
   ]
  },
  {
   "cell_type": "code",
   "execution_count": null,
   "id": "133dbfae",
   "metadata": {},
   "outputs": [],
   "source": []
  },
  {
   "cell_type": "code",
   "execution_count": null,
   "id": "99c15f34",
   "metadata": {},
   "outputs": [],
   "source": []
  },
  {
   "cell_type": "markdown",
   "id": "6f8cdf7f",
   "metadata": {},
   "source": [
    "### Pregunta 2"
   ]
  },
  {
   "cell_type": "markdown",
   "id": "7726a2a9",
   "metadata": {},
   "source": [
    "Después de haber instalado MPI procedemos a importarlo así como las otras funciones que nos puedans servir como numpy"
   ]
  },
  {
   "cell_type": "code",
   "execution_count": 6,
   "id": "4f3c9e58",
   "metadata": {},
   "outputs": [],
   "source": [
    "#from mpi4py import MPI\n",
    "#import numpy as np\n",
    "#import random\n",
    "#import pandas as pd\n",
    "from numpy import genfromtxt"
   ]
  },
  {
   "cell_type": "markdown",
   "id": "1bb14dfc",
   "metadata": {},
   "source": [
    "Para comprobar que MPI se instaló correctamente, usamos el ejemplo visto en clase."
   ]
  },
  {
   "cell_type": "code",
   "execution_count": 7,
   "id": "61e0e680",
   "metadata": {},
   "outputs": [
    {
     "name": "stdout",
     "output_type": "stream",
     "text": [
      "Overwriting mpi_example1.py\n"
     ]
    }
   ],
   "source": [
    "%%writefile mpi_example1.py \n",
    "from mpi4py import MPI\n",
    "\n",
    "comm = MPI.COMM_WORLD # all available processors to communicate \n",
    "rank = comm.Get_rank() # give ranks to processors, local variable for e/ processor\n",
    "size = comm.Get_size() # each processor identifies the total processors \n",
    "\n",
    "print(\"Hello World from rank \", rank, \" out of \", size, \" processors \")"
   ]
  },
  {
   "cell_type": "code",
   "execution_count": null,
   "id": "1a4fb1b7",
   "metadata": {},
   "outputs": [],
   "source": [
    "! mpiexec -n 4 python mpi_example1.py"
   ]
  },
  {
   "cell_type": "markdown",
   "id": "47e5b54a",
   "metadata": {},
   "source": [
    "a.Que un procesador genere dos numpy array diferentes, cada uno de 1,000,000 observaciones. Llamar “num1” y “num2” a estos numpy"
   ]
  },
  {
   "cell_type": "markdown",
   "id": "094cfa52",
   "metadata": {},
   "source": [
    "Con nuestro procesador de rango 0 generamos dos arrays de números aleatorios con 1 000 000 de observaciones cada uno que llamaremos \"num1\" y \"num2\""
   ]
  },
  {
   "cell_type": "code",
   "execution_count": 36,
   "id": "5333eb06",
   "metadata": {},
   "outputs": [],
   "source": [
    "random.seed (1102)"
   ]
  },
  {
   "cell_type": "code",
   "execution_count": 46,
   "id": "d19038f9",
   "metadata": {},
   "outputs": [
    {
     "name": "stdout",
     "output_type": "stream",
     "text": [
      "Overwriting numpys.py\n"
     ]
    }
   ],
   "source": [
    "%%writefile numpys.py \n",
    "from mpi4py import MPI\n",
    "\n",
    "import numpy as np\n",
    "import random\n",
    "\n",
    "comm = MPI.COMM_WORLD\n",
    "rank = comm.Get_rank()\n",
    "size = comm.Get_size()\n",
    "\n",
    "if rank == 0:\n",
    "    random.seed (1102)\n",
    "    num1 = np.random.random(1000000)\n",
    "    num2 = np.random.random(1000000)\n",
    "    print (num1,num2)\n"
   ]
  },
  {
   "cell_type": "code",
   "execution_count": 82,
   "id": "f651a36b",
   "metadata": {},
   "outputs": [
    {
     "name": "stdout",
     "output_type": "stream",
     "text": [
      "[0.82230028 0.40343584 0.22223975 ... 0.75828752 0.9963173  0.32587117] [0.21657995 0.40071168 0.8840185  ... 0.27124061 0.89478879 0.59045959]\n"
     ]
    }
   ],
   "source": [
    "random.seed (1102)\n",
    "! mpiexec -n 1 python numpys.py"
   ]
  },
  {
   "cell_type": "markdown",
   "id": "9137efff",
   "metadata": {},
   "source": [
    "b.\tEnviar cada numpy a un procesador diferente. Que cada uno de los otros procesadores reciba su numpy"
   ]
  },
  {
   "cell_type": "markdown",
   "id": "3ac17800",
   "metadata": {},
   "source": [
    "Procedemos a enviar \"num1\" al procesador de rango 1 y \"num2\" al procesador de rango 2"
   ]
  },
  {
   "cell_type": "code",
   "execution_count": 99,
   "id": "a32b95aa",
   "metadata": {},
   "outputs": [
    {
     "name": "stdout",
     "output_type": "stream",
     "text": [
      "Overwriting numpys2.py\n"
     ]
    }
   ],
   "source": [
    "%%writefile numpys2.py \n",
    "from mpi4py import MPI\n",
    "\n",
    "import numpy as np\n",
    "import random\n",
    "\n",
    "comm = MPI.COMM_WORLD\n",
    "rank = comm.Get_rank()\n",
    "size = comm.Get_size()\n",
    "\n",
    "if rank == 0:\n",
    "    random.seed (1102)\n",
    "    num1 = np.random.random(1000000)\n",
    "    num2 = np.random.random(1000000)\n",
    "    comm.Send(num1, dest=1)\n",
    "    comm.Send(num2, dest=2)\n",
    "elif rank == 1:\n",
    "    num1 = np.empty(1000000)\n",
    "    comm.Recv(num1, source=0)\n",
    "    print (num1)\n",
    "elif rank == 2:\n",
    "    num2 = np.empty(1000000)\n",
    "    comm.Recv(num2, source=0)\n",
    "    print (num2)"
   ]
  },
  {
   "cell_type": "code",
   "execution_count": 100,
   "id": "5cf93242",
   "metadata": {},
   "outputs": [
    {
     "name": "stdout",
     "output_type": "stream",
     "text": [
      "[0.88771867 0.27119885 0.03070912 ... 0.19719056 0.82015062 0.89252686]\n",
      "[0.29752897 0.40220258 0.1328891  ... 0.5105735  0.35169825 0.44080369]\n"
     ]
    }
   ],
   "source": [
    "! mpiexec -n 3 python numpys2.py"
   ]
  },
  {
   "cell_type": "markdown",
   "id": "05d106b5",
   "metadata": {},
   "source": [
    "c.\tQue otro procesador (que no haya recibido nada) reciba “num1” y “num2” y los imprima."
   ]
  },
  {
   "cell_type": "markdown",
   "id": "30daf927",
   "metadata": {},
   "source": [
    "Procedemos a enviar \"num1\" desde nuestro procesador de rango 1 y \"num2\" desde nuestro procesador de rango 2 a nuestro procesador de rango 3. "
   ]
  },
  {
   "cell_type": "code",
   "execution_count": 68,
   "id": "76deb5d6",
   "metadata": {},
   "outputs": [
    {
     "name": "stdout",
     "output_type": "stream",
     "text": [
      "Writing parte2_2.py\n"
     ]
    }
   ],
   "source": [
    "%%writefile parte2_2.py \n",
    "from mpi4py import MPI\n",
    "\n",
    "import numpy as np\n",
    "import random\n",
    "\n",
    "comm = MPI.COMM_WORLD\n",
    "rank = comm.Get_rank()\n",
    "size = comm.Get_size()\n",
    "\n",
    "if rank == 0:\n",
    "    random.seed (1102)\n",
    "    num1 = np.random.random(1000000)\n",
    "    num2 = np.random.random(1000000)\n",
    "    comm.Send(num1, dest=1)\n",
    "    comm.Send(num2, dest=2)\n",
    "elif rank == 1:\n",
    "    num1 = np.empty(1000000)\n",
    "    comm.Recv(num1, source=0)\n",
    "    print (num1)\n",
    "elif rank == 2:\n",
    "    num2 = np.empty(1000000)\n",
    "    comm.Recv(num2, source=0)\n",
    "    print (num2)"
   ]
  },
  {
   "cell_type": "code",
   "execution_count": 69,
   "id": "5404f13c",
   "metadata": {},
   "outputs": [
    {
     "name": "stdout",
     "output_type": "stream",
     "text": [
      "[0.91294557 0.08002201 0.44396812 ... 0.14826613 0.87352387 0.22030702]\n",
      "[0.36044107 0.58287401 0.28592556 ... 0.93334727 0.01238815 0.27647252]\n"
     ]
    }
   ],
   "source": [
    "! mpiexec -n 4 python parte2_2.py"
   ]
  },
  {
   "cell_type": "markdown",
   "id": "37e2ee2c",
   "metadata": {},
   "source": [
    "d.\tEjecute el código creado y registre el tiempo que toma realizar este ejercicio."
   ]
  },
  {
   "cell_type": "markdown",
   "id": "f88d375f",
   "metadata": {},
   "source": [
    "Procedemos a ejecutar nuestro último código tomando el tiempo de ejecución. "
   ]
  },
  {
   "cell_type": "code",
   "execution_count": 71,
   "id": "ff06fb06",
   "metadata": {},
   "outputs": [
    {
     "name": "stdout",
     "output_type": "stream",
     "text": [
      "[0.91259605 0.70382155 0.0011705  ... 0.01362625 0.87246215 0.29451386]\n",
      "[0.65523925 0.93751911 0.93899528 ... 0.7779723  0.90110366 0.86416309]\n",
      "0.7058086395263672\n"
     ]
    }
   ],
   "source": [
    "import time\n",
    "start = time.time()\n",
    "! mpiexec -n 4 python parte2_2.py\n",
    "end = time.time()\n",
    "print(end - start)"
   ]
  },
  {
   "cell_type": "markdown",
   "id": "6f694578",
   "metadata": {},
   "source": [
    "e.\tEn otro chunk responda: ¿existe una manera de agilizar este proceso con las herramientas de MPI? Sea detallado en su respuesta y argumentos."
   ]
  },
  {
   "cell_type": "markdown",
   "id": "ab789fe0",
   "metadata": {},
   "source": []
  },
  {
   "cell_type": "markdown",
   "id": "8bc4b94f",
   "metadata": {},
   "source": [
    "### Pregunta 3"
   ]
  },
  {
   "cell_type": "markdown",
   "id": "ccec7906",
   "metadata": {},
   "source": [
    "Generamos un numpy array que almacene el archivo: “tarea2.csv” y calculamos el máximo para tenerlo como referencia para las siguientes preguntas"
   ]
  },
  {
   "cell_type": "code",
   "execution_count": 73,
   "id": "ed50402a",
   "metadata": {},
   "outputs": [
    {
     "name": "stdout",
     "output_type": "stream",
     "text": [
      "(1048575,)\n"
     ]
    }
   ],
   "source": [
    "from numpy import genfromtxt\n",
    "tarea2 = genfromtxt('tarea2.csv', delimiter=',')\n",
    "print(tarea2.shape)"
   ]
  },
  {
   "cell_type": "code",
   "execution_count": 79,
   "id": "7e14481d",
   "metadata": {},
   "outputs": [
    {
     "data": {
      "text/plain": [
       "0.99999982"
      ]
     },
     "execution_count": 79,
     "metadata": {},
     "output_type": "execute_result"
    }
   ],
   "source": [
    "tarea2.max()"
   ]
  },
  {
   "cell_type": "markdown",
   "id": "e53b46b7",
   "metadata": {},
   "source": [
    "Generar un numpy array que almacene el archivo: “tarea2.csv”\n",
    "a.\tEscribir un código que halle el valor máximo de “tarea2” usando un procesador. Imprimir el valor máximo. Registrar el tiempo de demora."
   ]
  },
  {
   "cell_type": "code",
   "execution_count": 77,
   "id": "28e6df52",
   "metadata": {},
   "outputs": [
    {
     "name": "stdout",
     "output_type": "stream",
     "text": [
      "Overwriting p3a.py\n"
     ]
    }
   ],
   "source": [
    "%%writefile p3a.py \n",
    "from mpi4py import MPI\n",
    "\n",
    "import numpy as np\n",
    "import random\n",
    "from numpy import genfromtxt\n",
    "\n",
    "comm = MPI.COMM_WORLD\n",
    "rank = comm.Get_rank()\n",
    "size = comm.Get_size()\n",
    "\n",
    "if rank == 0:\n",
    "    tarea2 = genfromtxt('tarea2.csv', delimiter=',')\n",
    "    maximo = tarea2.max()\n",
    "    print(maximo)"
   ]
  },
  {
   "cell_type": "code",
   "execution_count": 78,
   "id": "beefec54",
   "metadata": {},
   "outputs": [
    {
     "name": "stdout",
     "output_type": "stream",
     "text": [
      "5.873629093170166\n",
      "0.99999982\n"
     ]
    }
   ],
   "source": [
    "import time\n",
    "start = time.time()\n",
    "! mpiexec -n 1 python p3a.py\n",
    "end = time.time()\n",
    "print(end - start)"
   ]
  },
  {
   "cell_type": "markdown",
   "id": "1184fce8",
   "metadata": {},
   "source": [
    "Constatamos que encontramos el mismo máximo con nuestro código MPI que con el numpy array inicial"
   ]
  },
  {
   "cell_type": "markdown",
   "id": "51dd7495",
   "metadata": {},
   "source": [
    "b.\tEscribir un código que realice las siguientes indicaciones. Dividir el numpy en dos partes iguales. Que dos procesadores distintos encuentren el máximo de cada parte. Que otro procesador junte los máximos hallados y encuentre el máximo global. Este resultado debe ser igual al de 3a. Registrar el tiempo de demora."
   ]
  },
  {
   "cell_type": "code",
   "execution_count": 83,
   "id": "557639bf",
   "metadata": {},
   "outputs": [],
   "source": [
    "tarea2_chunk = np.array_split(tarea2, 2)"
   ]
  },
  {
   "cell_type": "code",
   "execution_count": 94,
   "id": "647d1e7d",
   "metadata": {},
   "outputs": [
    {
     "data": {
      "text/plain": [
       "[array([0.34887171, 0.2668857 , 0.1366463 , ..., 0.57128704, 0.81662822,\n",
       "        0.24393123]),\n",
       " array([0.71707726, 0.31591403, 0.57266182, ..., 0.48673952, 0.09359856,\n",
       "        0.93271565])]"
      ]
     },
     "execution_count": 94,
     "metadata": {},
     "output_type": "execute_result"
    }
   ],
   "source": [
    "tarea2_chunk"
   ]
  },
  {
   "cell_type": "code",
   "execution_count": 114,
   "id": "f0f79311",
   "metadata": {},
   "outputs": [
    {
     "ename": "AttributeError",
     "evalue": "'list' object has no attribute 'size'",
     "output_type": "error",
     "traceback": [
      "\u001b[1;31m---------------------------------------------------------------------------\u001b[0m",
      "\u001b[1;31mAttributeError\u001b[0m                            Traceback (most recent call last)",
      "\u001b[1;32m<ipython-input-114-aef946447a31>\u001b[0m in \u001b[0;36m<module>\u001b[1;34m\u001b[0m\n\u001b[1;32m----> 1\u001b[1;33m \u001b[0mtarea2_chunk\u001b[0m\u001b[1;33m.\u001b[0m\u001b[0msize\u001b[0m\u001b[1;33m\u001b[0m\u001b[1;33m\u001b[0m\u001b[0m\n\u001b[0m",
      "\u001b[1;31mAttributeError\u001b[0m: 'list' object has no attribute 'size'"
     ]
    }
   ],
   "source": [
    "tarea2_chunk.size"
   ]
  },
  {
   "cell_type": "code",
   "execution_count": 108,
   "id": "61799eca",
   "metadata": {},
   "outputs": [
    {
     "data": {
      "text/plain": [
       "array([0.34887171, 0.2668857 , 0.1366463 , ..., 0.57128704, 0.81662822,\n",
       "       0.24393123])"
      ]
     },
     "execution_count": 108,
     "metadata": {},
     "output_type": "execute_result"
    }
   ],
   "source": [
    "tarea2_chunk[0]"
   ]
  },
  {
   "cell_type": "code",
   "execution_count": 109,
   "id": "476b287c",
   "metadata": {},
   "outputs": [
    {
     "data": {
      "text/plain": [
       "524288"
      ]
     },
     "execution_count": 109,
     "metadata": {},
     "output_type": "execute_result"
    }
   ],
   "source": [
    "tarea2_chunk[0].size"
   ]
  },
  {
   "cell_type": "code",
   "execution_count": 110,
   "id": "5edc353c",
   "metadata": {},
   "outputs": [
    {
     "data": {
      "text/plain": [
       "array([0.71707726, 0.31591403, 0.57266182, ..., 0.48673952, 0.09359856,\n",
       "       0.93271565])"
      ]
     },
     "execution_count": 110,
     "metadata": {},
     "output_type": "execute_result"
    }
   ],
   "source": [
    "tarea2_chunk[1]"
   ]
  },
  {
   "cell_type": "code",
   "execution_count": 111,
   "id": "2ca585fe",
   "metadata": {},
   "outputs": [
    {
     "data": {
      "text/plain": [
       "524287"
      ]
     },
     "execution_count": 111,
     "metadata": {},
     "output_type": "execute_result"
    }
   ],
   "source": [
    "tarea2_chunk[1].size"
   ]
  },
  {
   "cell_type": "code",
   "execution_count": null,
   "id": "91b3fade",
   "metadata": {},
   "outputs": [],
   "source": [
    "tarea2_chunk = []\n",
    "for chunk in pd.read_csv(tarea2 , chunks=2):\n",
    "    chunks.append(tarea2)"
   ]
  },
  {
   "cell_type": "code",
   "execution_count": 127,
   "id": "626dcd34",
   "metadata": {},
   "outputs": [
    {
     "name": "stdout",
     "output_type": "stream",
     "text": [
      "Overwriting p3btest.py\n"
     ]
    }
   ],
   "source": [
    "%%writefile p3btest.py \n",
    "from mpi4py import MPI\n",
    "\n",
    "import numpy as np\n",
    "import pandas as pd\n",
    "import random\n",
    "from numpy import genfromtxt\n",
    "\n",
    "\n",
    "comm = MPI.COMM_WORLD\n",
    "rank = comm.Get_rank()\n",
    "size = comm.Get_size()\n",
    "\n",
    "if rank == 0:\n",
    "    tarea2 = genfromtxt('tarea2.csv', delimiter=',')\n",
    "    tarea2_chunk = np.array_split(tarea2, 2)\n",
    "    chunk1=tarea2_chunk[0]\n",
    "    chunk2=tarea2_chunk[1]\n",
    "    comm.Send(chunk1, dest=1)\n",
    "    comm.Send(chunk2, dest=2)\n",
    "elif rank == 1:\n",
    "    chunk1 = np.empty(524288)\n",
    "    comm.Recv(chunk1, source=0)\n",
    "    max1=chunk1.max()\n",
    "    print(max1)\n",
    "elif rank == 2:\n",
    "    chunk2 = np.empty(524287)\n",
    "    comm.Recv(chunk2, source=0)\n",
    "    max2=chunk2.max()\n",
    "    print(max2)"
   ]
  },
  {
   "cell_type": "code",
   "execution_count": 128,
   "id": "1c44d079",
   "metadata": {},
   "outputs": [
    {
     "name": "stdout",
     "output_type": "stream",
     "text": [
      "0.99999791\n",
      "0.99999982\n",
      "4.333028554916382\n"
     ]
    }
   ],
   "source": [
    "import time\n",
    "start = time.time()\n",
    "! mpiexec -n 3 python p3btest.py\n",
    "end = time.time()\n",
    "print(end - start)"
   ]
  },
  {
   "cell_type": "code",
   "execution_count": 119,
   "id": "2eef1f64",
   "metadata": {},
   "outputs": [
    {
     "name": "stdout",
     "output_type": "stream",
     "text": [
      "Overwriting p3b.py\n"
     ]
    }
   ],
   "source": [
    "%%writefile p3b.py \n",
    "from mpi4py import MPI\n",
    "\n",
    "import numpy as np\n",
    "import pandas as pd\n",
    "import random\n",
    "from numpy import genfromtxt\n",
    "\n",
    "\n",
    "comm = MPI.COMM_WORLD\n",
    "rank = comm.Get_rank()\n",
    "size = comm.Get_size()\n",
    "\n",
    "if rank == 0:\n",
    "    tarea2 = genfromtxt('tarea2.csv', delimiter=',')\n",
    "    tarea2_chunk = np.array_split(tarea2, 2)\n",
    "    chunk1=tarea2_chunk[0]\n",
    "    chunk2=tarea2_chunk[1]\n",
    "    comm.Send(chunk1, dest=1)\n",
    "    comm.Send(chunk2, dest=2)\n",
    "elif rank == 1:\n",
    "    chunk1 = np.empty(524288)\n",
    "    comm.Recv(chunk1, source=0)\n",
    "    max1=chunk1.max()\n",
    "    comm.Send(max1, dest=2)\n",
    "elif rank == 2:\n",
    "    chunk2 = np.empty(524287)\n",
    "    comm.Recv(chunk2, source=0)\n",
    "    max2=chunk2.max()\n",
    "    comm.Send(max2, dest=2)\n",
    "elif rank == 3:\n",
    "    max3 = np.empty(2)\n",
    "    comm.Recv(max1, source=1)\n",
    "    comm.Recv(max2, source=2)\n",
    "    maxfin=max3.max()\n",
    "    print(maxfin)"
   ]
  },
  {
   "cell_type": "code",
   "execution_count": 120,
   "id": "57f34dc8",
   "metadata": {},
   "outputs": [
    {
     "name": "stdout",
     "output_type": "stream",
     "text": [
      "^C\n",
      "231.87553572654724\n"
     ]
    }
   ],
   "source": [
    "import time\n",
    "start = time.time()\n",
    "! mpiexec -n 4 python p3b.py\n",
    "end = time.time()\n",
    "print(end - start)"
   ]
  },
  {
   "cell_type": "code",
   "execution_count": null,
   "id": "3026eee2",
   "metadata": {},
   "outputs": [],
   "source": [
    "  comm.Reduce(max3,maxfin,MPI.MAX)\n",
    "    max3=chunk2.max()"
   ]
  },
  {
   "cell_type": "markdown",
   "id": "0a6101ff",
   "metadata": {},
   "source": [
    "c.\tRepetir 3b dividiendo el numpy original en tres partes. Registrar el tiempo de demora."
   ]
  },
  {
   "cell_type": "code",
   "execution_count": null,
   "id": "ce095c6f",
   "metadata": {},
   "outputs": [],
   "source": []
  },
  {
   "cell_type": "markdown",
   "id": "161d8780",
   "metadata": {},
   "source": [
    "d.\tComparar los tiempos registrados en 3a, 3b y 3c. ¿Hay una reducción del tiempo? ¿La reducción del tiempo es lineal? ¿Por qué?"
   ]
  }
 ],
 "metadata": {
  "kernelspec": {
   "display_name": "Python 3 (ipykernel)",
   "language": "python",
   "name": "python3"
  },
  "language_info": {
   "codemirror_mode": {
    "name": "ipython",
    "version": 3
   },
   "file_extension": ".py",
   "mimetype": "text/x-python",
   "name": "python",
   "nbconvert_exporter": "python",
   "pygments_lexer": "ipython3",
   "version": "3.9.7"
  }
 },
 "nbformat": 4,
 "nbformat_minor": 5
}
