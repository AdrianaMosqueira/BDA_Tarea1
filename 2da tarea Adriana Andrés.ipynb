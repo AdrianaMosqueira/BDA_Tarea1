{
 "cells": [
  {
   "cell_type": "markdown",
   "id": "275c78ce",
   "metadata": {},
   "source": [
    "### Pregunta 2"
   ]
  },
  {
   "cell_type": "markdown",
   "id": "3a0b74fa",
   "metadata": {},
   "source": [
    "Después de haber instalado MPI procedemos a importarlo así como las otras funciones que nos puedans servir como numpy"
   ]
  },
  {
   "cell_type": "code",
   "execution_count": 72,
   "id": "4f3c9e58",
   "metadata": {},
   "outputs": [],
   "source": [
    "#from mpi4py import MPI\n",
    "#import numpy as np\n",
    "#import random\n",
    "import pandas as pd"
   ]
  },
  {
   "cell_type": "markdown",
   "id": "bacd3ce6",
   "metadata": {},
   "source": [
    "Para comprobar que MPI se instaló correctamente, usamos el ejemplo visto en clase."
   ]
  },
  {
   "cell_type": "code",
   "execution_count": 13,
   "id": "61e0e680",
   "metadata": {},
   "outputs": [
    {
     "name": "stdout",
     "output_type": "stream",
     "text": [
      "Overwriting mpi_example1.py\n"
     ]
    }
   ],
   "source": [
    "%%writefile mpi_example1.py \n",
    "from mpi4py import MPI\n",
    "\n",
    "comm = MPI.COMM_WORLD # all available processors to communicate \n",
    "rank = comm.Get_rank() # give ranks to processors, local variable for e/ processor\n",
    "size = comm.Get_size() # each processor identifies the total processors \n",
    "\n",
    "print(\"Hello World from rank \", rank, \" out of \", size, \" processors \")"
   ]
  },
  {
   "cell_type": "code",
   "execution_count": 14,
   "id": "d9a3ca58",
   "metadata": {},
   "outputs": [
    {
     "name": "stdout",
     "output_type": "stream",
     "text": [
      "Hello World from rank  0  out of  4  processors \n",
      "Hello World from rank  1  out of  4  processors \n",
      "Hello World from rank  2  out of  4  processors \n",
      "Hello World from rank  3  out of  4  processors \n"
     ]
    }
   ],
   "source": [
    "! mpiexec -n 4 python mpi_example1.py"
   ]
  },
  {
   "cell_type": "markdown",
   "id": "d48d9eef",
   "metadata": {},
   "source": [
    "a.Que un procesador genere dos numpy array diferentes, cada uno de 1,000,000 observaciones. Llamar “num1” y “num2” a estos numpy"
   ]
  },
  {
   "cell_type": "markdown",
   "id": "76d06a59",
   "metadata": {},
   "source": [
    "Con nuestro procesador de rango 0 generamos dos arrays de números aleatorios con 1 000 000 de observaciones cada uno que llamaremos \"num1\" y \"num2\""
   ]
  },
  {
   "cell_type": "code",
   "execution_count": 36,
   "id": "a5f6091e",
   "metadata": {},
   "outputs": [],
   "source": [
    "random.seed (1102)"
   ]
  },
  {
   "cell_type": "code",
   "execution_count": 46,
   "id": "4f2bd1c8",
   "metadata": {},
   "outputs": [
    {
     "name": "stdout",
     "output_type": "stream",
     "text": [
      "Overwriting numpys.py\n"
     ]
    }
   ],
   "source": [
    "%%writefile numpys.py \n",
    "from mpi4py import MPI\n",
    "\n",
    "import numpy as np\n",
    "import random\n",
    "\n",
    "comm = MPI.COMM_WORLD\n",
    "rank = comm.Get_rank()\n",
    "size = comm.Get_size()\n",
    "\n",
    "if rank == 0:\n",
    "    random.seed (1102)\n",
    "    num1 = np.random.random(1000000)\n",
    "    num2 = np.random.random(1000000)\n",
    "    print (num1,num2)\n"
   ]
  },
  {
   "cell_type": "code",
   "execution_count": 48,
   "id": "455e23bc",
   "metadata": {},
   "outputs": [
    {
     "name": "stdout",
     "output_type": "stream",
     "text": [
      "[0.87890393 0.23608039 0.25866743 ... 0.74521277 0.9093864  0.99825781] [0.01619609 0.31208514 0.75631335 ... 0.26744182 0.76172791 0.79247752]\n"
     ]
    }
   ],
   "source": [
    "! mpiexec -n 1 python numpys.py"
   ]
  },
  {
   "cell_type": "markdown",
   "id": "37ba5e3b",
   "metadata": {},
   "source": [
    "b.\tEnviar cada numpy a un procesador diferente. Que cada uno de los otros procesadores reciba su numpy"
   ]
  },
  {
   "cell_type": "markdown",
   "id": "e133f19a",
   "metadata": {},
   "source": [
    "Procedemos a enviar \"num1\" al procesador de rango 1 y \"num2\" al procesador de rango 2"
   ]
  },
  {
   "cell_type": "code",
   "execution_count": 61,
   "id": "d53de383",
   "metadata": {},
   "outputs": [
    {
     "name": "stdout",
     "output_type": "stream",
     "text": [
      "Overwriting numpys2.py\n"
     ]
    }
   ],
   "source": [
    "%%writefile numpys2.py \n",
    "from mpi4py import MPI\n",
    "\n",
    "import numpy as np\n",
    "import random\n",
    "\n",
    "comm = MPI.COMM_WORLD\n",
    "rank = comm.Get_rank()\n",
    "size = comm.Get_size()\n",
    "\n",
    "if rank == 0:\n",
    "    random.seed (1102)\n",
    "    num1 = np.random.random(1000000)\n",
    "    num2 = np.random.random(1000000)\n",
    "    comm.Send(num1, dest=1)\n",
    "    comm.Send(num2, dest=2)\n",
    "elif rank == 1:\n",
    "    num1 = np.empty(1000000)\n",
    "    comm.Recv(num1, source=0)\n",
    "    print (num1)\n",
    "elif rank == 2:\n",
    "    num2 = np.empty(1000000)\n",
    "    comm.Recv(num2, source=0)\n",
    "    print (num2)"
   ]
  },
  {
   "cell_type": "code",
   "execution_count": 62,
   "id": "71d07a5f",
   "metadata": {},
   "outputs": [
    {
     "name": "stdout",
     "output_type": "stream",
     "text": [
      "[0.54972414 0.13346457 0.33676119 ... 0.99672326 0.00520165 0.62373786]\n",
      "[0.58985467 0.60038454 0.17469465 ... 0.84140889 0.05707542 0.99939542]\n"
     ]
    }
   ],
   "source": [
    "! mpiexec -n 3 python numpys2.py"
   ]
  },
  {
   "cell_type": "markdown",
   "id": "17d482c1",
   "metadata": {},
   "source": [
    "c.\tQue otro procesador (que no haya recibido nada) reciba “num1” y “num2” y los imprima."
   ]
  },
  {
   "cell_type": "markdown",
   "id": "0858eeb3",
   "metadata": {},
   "source": [
    "Procedemos a enviar \"num1\" desde nuestro procesador de rango 1 y \"num2\" desde nuestro procesador de rango 2 a nuestro procesador de rango 3. "
   ]
  },
  {
   "cell_type": "code",
   "execution_count": 68,
   "id": "8a0edb0f",
   "metadata": {},
   "outputs": [
    {
     "name": "stdout",
     "output_type": "stream",
     "text": [
      "Writing parte2_2.py\n"
     ]
    }
   ],
   "source": [
    "%%writefile parte2_2.py \n",
    "from mpi4py import MPI\n",
    "\n",
    "import numpy as np\n",
    "import random\n",
    "\n",
    "comm = MPI.COMM_WORLD\n",
    "rank = comm.Get_rank()\n",
    "size = comm.Get_size()\n",
    "\n",
    "if rank == 0:\n",
    "    random.seed (1102)\n",
    "    num1 = np.random.random(1000000)\n",
    "    num2 = np.random.random(1000000)\n",
    "    comm.Send(num1, dest=1)\n",
    "    comm.Send(num2, dest=2)\n",
    "elif rank == 1:\n",
    "    num1 = np.empty(1000000)\n",
    "    comm.Recv(num1, source=0)\n",
    "    print (num1)\n",
    "elif rank == 2:\n",
    "    num2 = np.empty(1000000)\n",
    "    comm.Recv(num2, source=0)\n",
    "    print (num2)"
   ]
  },
  {
   "cell_type": "code",
   "execution_count": 69,
   "id": "15011941",
   "metadata": {},
   "outputs": [
    {
     "name": "stdout",
     "output_type": "stream",
     "text": [
      "[0.91294557 0.08002201 0.44396812 ... 0.14826613 0.87352387 0.22030702]\n",
      "[0.36044107 0.58287401 0.28592556 ... 0.93334727 0.01238815 0.27647252]\n"
     ]
    }
   ],
   "source": [
    "! mpiexec -n 4 python parte2_2.py"
   ]
  },
  {
   "cell_type": "markdown",
   "id": "bcb1a138",
   "metadata": {},
   "source": [
    "d.\tEjecute el código creado y registre el tiempo que toma realizar este ejercicio."
   ]
  },
  {
   "cell_type": "markdown",
   "id": "9008d31c",
   "metadata": {},
   "source": [
    "Procedemos a ejecutar nuestro último código tomando el tiempo de ejecución. "
   ]
  },
  {
   "cell_type": "code",
   "execution_count": 71,
   "id": "bf3ea66f",
   "metadata": {},
   "outputs": [
    {
     "name": "stdout",
     "output_type": "stream",
     "text": [
      "[0.91259605 0.70382155 0.0011705  ... 0.01362625 0.87246215 0.29451386]\n",
      "[0.65523925 0.93751911 0.93899528 ... 0.7779723  0.90110366 0.86416309]\n",
      "0.7058086395263672\n"
     ]
    }
   ],
   "source": [
    "import time\n",
    "start = time.time()\n",
    "! mpiexec -n 4 python parte2_2.py\n",
    "end = time.time()\n",
    "print(end - start)"
   ]
  },
  {
   "cell_type": "markdown",
   "id": "1760f23c",
   "metadata": {},
   "source": [
    "e.\tEn otro chunk responda: ¿existe una manera de agilizar este proceso con las herramientas de MPI? Sea detallado en su respuesta y argumentos."
   ]
  },
  {
   "cell_type": "markdown",
   "id": "7b03c25b",
   "metadata": {},
   "source": []
  },
  {
   "cell_type": "markdown",
   "id": "6ff09221",
   "metadata": {},
   "source": [
    "### Pregunta 3"
   ]
  },
  {
   "cell_type": "markdown",
   "id": "124580a9",
   "metadata": {},
   "source": [
    "Generar un numpy array que almacene el archivo: “tarea2.csv”. "
   ]
  },
  {
   "cell_type": "code",
   "execution_count": 67,
   "id": "8b0de00c",
   "metadata": {},
   "outputs": [
    {
     "ename": "OSError",
     "evalue": "tarea2.csv not found.",
     "output_type": "error",
     "traceback": [
      "\u001b[1;31m---------------------------------------------------------------------------\u001b[0m",
      "\u001b[1;31mOSError\u001b[0m                                   Traceback (most recent call last)",
      "\u001b[1;32m<ipython-input-67-23e5a1031c4b>\u001b[0m in \u001b[0;36m<module>\u001b[1;34m\u001b[0m\n\u001b[0;32m      1\u001b[0m \u001b[1;32mfrom\u001b[0m \u001b[0mnumpy\u001b[0m \u001b[1;32mimport\u001b[0m \u001b[0mgenfromtxt\u001b[0m\u001b[1;33m\u001b[0m\u001b[1;33m\u001b[0m\u001b[0m\n\u001b[1;32m----> 2\u001b[1;33m \u001b[0mtarea2\u001b[0m \u001b[1;33m=\u001b[0m \u001b[0mgenfromtxt\u001b[0m\u001b[1;33m(\u001b[0m\u001b[1;34m'tarea2.csv'\u001b[0m\u001b[1;33m,\u001b[0m \u001b[0mdelimiter\u001b[0m\u001b[1;33m=\u001b[0m\u001b[1;34m','\u001b[0m\u001b[1;33m)\u001b[0m\u001b[1;33m\u001b[0m\u001b[1;33m\u001b[0m\u001b[0m\n\u001b[0m\u001b[0;32m      3\u001b[0m \u001b[0mprint\u001b[0m\u001b[1;33m(\u001b[0m\u001b[0mtarea2\u001b[0m\u001b[1;33m.\u001b[0m\u001b[0mshape\u001b[0m\u001b[1;33m)\u001b[0m\u001b[1;33m\u001b[0m\u001b[1;33m\u001b[0m\u001b[0m\n",
      "\u001b[1;32m~\\anaconda3\\lib\\site-packages\\numpy\\lib\\npyio.py\u001b[0m in \u001b[0;36mgenfromtxt\u001b[1;34m(fname, dtype, comments, delimiter, skip_header, skip_footer, converters, missing_values, filling_values, usecols, names, excludelist, deletechars, replace_space, autostrip, case_sensitive, defaultfmt, unpack, usemask, loose, invalid_raise, max_rows, encoding, like)\u001b[0m\n\u001b[0;32m   1789\u001b[0m             \u001b[0mfname\u001b[0m \u001b[1;33m=\u001b[0m \u001b[0mos_fspath\u001b[0m\u001b[1;33m(\u001b[0m\u001b[0mfname\u001b[0m\u001b[1;33m)\u001b[0m\u001b[1;33m\u001b[0m\u001b[1;33m\u001b[0m\u001b[0m\n\u001b[0;32m   1790\u001b[0m         \u001b[1;32mif\u001b[0m \u001b[0misinstance\u001b[0m\u001b[1;33m(\u001b[0m\u001b[0mfname\u001b[0m\u001b[1;33m,\u001b[0m \u001b[0mstr\u001b[0m\u001b[1;33m)\u001b[0m\u001b[1;33m:\u001b[0m\u001b[1;33m\u001b[0m\u001b[1;33m\u001b[0m\u001b[0m\n\u001b[1;32m-> 1791\u001b[1;33m             \u001b[0mfid\u001b[0m \u001b[1;33m=\u001b[0m \u001b[0mnp\u001b[0m\u001b[1;33m.\u001b[0m\u001b[0mlib\u001b[0m\u001b[1;33m.\u001b[0m\u001b[0m_datasource\u001b[0m\u001b[1;33m.\u001b[0m\u001b[0mopen\u001b[0m\u001b[1;33m(\u001b[0m\u001b[0mfname\u001b[0m\u001b[1;33m,\u001b[0m \u001b[1;34m'rt'\u001b[0m\u001b[1;33m,\u001b[0m \u001b[0mencoding\u001b[0m\u001b[1;33m=\u001b[0m\u001b[0mencoding\u001b[0m\u001b[1;33m)\u001b[0m\u001b[1;33m\u001b[0m\u001b[1;33m\u001b[0m\u001b[0m\n\u001b[0m\u001b[0;32m   1792\u001b[0m             \u001b[0mfid_ctx\u001b[0m \u001b[1;33m=\u001b[0m \u001b[0mcontextlib\u001b[0m\u001b[1;33m.\u001b[0m\u001b[0mclosing\u001b[0m\u001b[1;33m(\u001b[0m\u001b[0mfid\u001b[0m\u001b[1;33m)\u001b[0m\u001b[1;33m\u001b[0m\u001b[1;33m\u001b[0m\u001b[0m\n\u001b[0;32m   1793\u001b[0m         \u001b[1;32melse\u001b[0m\u001b[1;33m:\u001b[0m\u001b[1;33m\u001b[0m\u001b[1;33m\u001b[0m\u001b[0m\n",
      "\u001b[1;32m~\\anaconda3\\lib\\site-packages\\numpy\\lib\\_datasource.py\u001b[0m in \u001b[0;36mopen\u001b[1;34m(path, mode, destpath, encoding, newline)\u001b[0m\n\u001b[0;32m    192\u001b[0m \u001b[1;33m\u001b[0m\u001b[0m\n\u001b[0;32m    193\u001b[0m     \u001b[0mds\u001b[0m \u001b[1;33m=\u001b[0m \u001b[0mDataSource\u001b[0m\u001b[1;33m(\u001b[0m\u001b[0mdestpath\u001b[0m\u001b[1;33m)\u001b[0m\u001b[1;33m\u001b[0m\u001b[1;33m\u001b[0m\u001b[0m\n\u001b[1;32m--> 194\u001b[1;33m     \u001b[1;32mreturn\u001b[0m \u001b[0mds\u001b[0m\u001b[1;33m.\u001b[0m\u001b[0mopen\u001b[0m\u001b[1;33m(\u001b[0m\u001b[0mpath\u001b[0m\u001b[1;33m,\u001b[0m \u001b[0mmode\u001b[0m\u001b[1;33m,\u001b[0m \u001b[0mencoding\u001b[0m\u001b[1;33m=\u001b[0m\u001b[0mencoding\u001b[0m\u001b[1;33m,\u001b[0m \u001b[0mnewline\u001b[0m\u001b[1;33m=\u001b[0m\u001b[0mnewline\u001b[0m\u001b[1;33m)\u001b[0m\u001b[1;33m\u001b[0m\u001b[1;33m\u001b[0m\u001b[0m\n\u001b[0m\u001b[0;32m    195\u001b[0m \u001b[1;33m\u001b[0m\u001b[0m\n\u001b[0;32m    196\u001b[0m \u001b[1;33m\u001b[0m\u001b[0m\n",
      "\u001b[1;32m~\\anaconda3\\lib\\site-packages\\numpy\\lib\\_datasource.py\u001b[0m in \u001b[0;36mopen\u001b[1;34m(self, path, mode, encoding, newline)\u001b[0m\n\u001b[0;32m    529\u001b[0m                                       encoding=encoding, newline=newline)\n\u001b[0;32m    530\u001b[0m         \u001b[1;32melse\u001b[0m\u001b[1;33m:\u001b[0m\u001b[1;33m\u001b[0m\u001b[1;33m\u001b[0m\u001b[0m\n\u001b[1;32m--> 531\u001b[1;33m             \u001b[1;32mraise\u001b[0m \u001b[0mIOError\u001b[0m\u001b[1;33m(\u001b[0m\u001b[1;34m\"%s not found.\"\u001b[0m \u001b[1;33m%\u001b[0m \u001b[0mpath\u001b[0m\u001b[1;33m)\u001b[0m\u001b[1;33m\u001b[0m\u001b[1;33m\u001b[0m\u001b[0m\n\u001b[0m\u001b[0;32m    532\u001b[0m \u001b[1;33m\u001b[0m\u001b[0m\n\u001b[0;32m    533\u001b[0m \u001b[1;33m\u001b[0m\u001b[0m\n",
      "\u001b[1;31mOSError\u001b[0m: tarea2.csv not found."
     ]
    }
   ],
   "source": [
    "from numpy import genfromtxt\n",
    "tarea2 = genfromtxt('tarea2.csv', delimiter=',')\n",
    "print(tarea2.shape)"
   ]
  },
  {
   "cell_type": "markdown",
   "id": "b7d4eb26",
   "metadata": {},
   "source": [
    "a.\tEscribir un código que halle el valor máximo de “tarea2” usando un procesador. Imprimir el valor máximo. Registrar el tiempo de demora."
   ]
  },
  {
   "cell_type": "code",
   "execution_count": null,
   "id": "69f805cd",
   "metadata": {},
   "outputs": [],
   "source": [
    "%%writefile p3a.py \n",
    "from mpi4py import MPI\n",
    "\n",
    "import numpy as np\n",
    "import random\n",
    "\n",
    "comm = MPI.COMM_WORLD\n",
    "rank = comm.Get_rank()\n",
    "size = comm.Get_size()\n",
    "\n",
    "if rank == 0:\n",
    "    maximo = tarea2.max()\n",
    "    print(maximo)"
   ]
  },
  {
   "cell_type": "code",
   "execution_count": null,
   "id": "dc34017d",
   "metadata": {},
   "outputs": [],
   "source": [
    "import time\n",
    "start = time.time()\n",
    "! mpiexec -n 1 python p3a.py\n",
    "end = time.time()\n",
    "print(end - start)"
   ]
  },
  {
   "cell_type": "markdown",
   "id": "95943963",
   "metadata": {},
   "source": [
    "b.\tEscribir un código que realice las siguientes indicaciones. Dividir el numpy en dos partes iguales. Que dos procesadores distintos encuentren el máximo de cada parte. Que otro procesador junte los máximos hallados y encuentre el máximo global. Este resultado debe ser igual al de 3a. Registrar el tiempo de demora."
   ]
  },
  {
   "cell_type": "code",
   "execution_count": null,
   "id": "311c2425",
   "metadata": {},
   "outputs": [],
   "source": []
  },
  {
   "cell_type": "code",
   "execution_count": null,
   "id": "8028177c",
   "metadata": {},
   "outputs": [],
   "source": [
    "tarea2_chunk = []\n",
    "for chunk in pd.read_csv(tarea2 , chunks=2):\n",
    "    chunks.append(tarea2)"
   ]
  },
  {
   "cell_type": "code",
   "execution_count": null,
   "id": "d4361cf9",
   "metadata": {},
   "outputs": [],
   "source": [
    "%%writefile p3b.py \n",
    "from mpi4py import MPI\n",
    "\n",
    "import numpy as np\n",
    "import pandas as pd\n",
    "import random\n",
    "\n",
    "comm = MPI.COMM_WORLD\n",
    "rank = comm.Get_rank()\n",
    "size = comm.Get_size()\n",
    "\n",
    "tarea2_chunk = np.array_split(tarea2, 2)\n",
    "\n",
    "if rank == 0:\n",
    "    maximo = tarea2.max()\n",
    "    print(maximo)"
   ]
  },
  {
   "cell_type": "code",
   "execution_count": null,
   "id": "96aa2c3a",
   "metadata": {},
   "outputs": [],
   "source": []
  },
  {
   "cell_type": "markdown",
   "id": "70b78efb",
   "metadata": {},
   "source": [
    "c.\tRepetir 3b dividiendo el numpy original en tres partes. Registrar el tiempo de demora."
   ]
  },
  {
   "cell_type": "code",
   "execution_count": null,
   "id": "a9a3b330",
   "metadata": {},
   "outputs": [],
   "source": []
  },
  {
   "cell_type": "markdown",
   "id": "70cb0e1a",
   "metadata": {},
   "source": [
    "d.\tComparar los tiempos registrados en 3a, 3b y 3c. ¿Hay una reducción del tiempo? ¿La reducción del tiempo es lineal? ¿Por qué?"
   ]
  }
 ],
 "metadata": {
  "kernelspec": {
   "display_name": "Python 3",
   "language": "python",
   "name": "python3"
  },
  "language_info": {
   "codemirror_mode": {
    "name": "ipython",
    "version": 3
   },
   "file_extension": ".py",
   "mimetype": "text/x-python",
   "name": "python",
   "nbconvert_exporter": "python",
   "pygments_lexer": "ipython3",
   "version": "3.8.8"
  }
 },
 "nbformat": 4,
 "nbformat_minor": 5
}
