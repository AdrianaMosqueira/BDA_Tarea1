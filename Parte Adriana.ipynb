{
 "cells": [
  {
   "cell_type": "markdown",
   "id": "9fa6c13d",
   "metadata": {},
   "source": [
    "## Parte I"
   ]
  },
  {
   "cell_type": "markdown",
   "id": "d77ade1c",
   "metadata": {},
   "source": [
    "#### Responda las siguientes preguntas en 200 palabras o menos (2 puntos cada una)"
   ]
  },
  {
   "cell_type": "markdown",
   "id": "f31fd3fa",
   "metadata": {},
   "source": [
    "1.\t¿Qué es un proceso embarrassingly parallel y uno inherentemente serial? Dé un ejemplo de cada uno (distintos a los vistos en clase)\n",
    "\n",
    "El proceso de convertir un programa serial o algoritmo en un programa paralelo es denominado paralelilazación, y los programas que pueden ser paralelizado por una simple división del trabajo entre los procesos son conocidos como “embarrassingly parallel”. Un ejemplo de ello es la renderización de infografías, utilizada en la animación por computadora, para la cual cada fotograma o píxel se puede renderizar de forma independiente (renderizado paralelo ). Sin embargo, no es posible que todos los procesos o algoritmos sean paralelizables, a estos se les denomina procesos inherentemente serial, por ejemplo: el muestreo de Gibbs (algoritmo de la cadena de Markov Monte Carlo - MCMC), usado para obtener una secuencia de observaciones que se aproximan a partir de una distribución de probabilidad multivariante, cuando el muestreo directo es difícil y usado comúnmente en la inferencia bayesiana. Este algoritmo es secuencial por naturaleza, es decir, se muestrea una variable aleatoria condicionada a todas las demás variables aleatorias. Si bien, este problema se puede absolver realizando un muestreo por bloques, es ineficiente pues implica un cálculo mucho más extenso"
   ]
  },
  {
   "cell_type": "markdown",
   "id": "bd03ab67",
   "metadata": {},
   "source": [
    "2.\t¿Qué cuellos de botella puede enfrentar al paralelizar un proceso? Relaciónelo con la ley de Amdahl/Gustafson \n",
    "\n",
    "Uno de los principales cuellos de botella de un proceso de paralelización, es que podemos encontrar procesos que solo pueden ser paralelizables parcialmente, es decir que un parte del proceso sea “inherentemente en serie”, lo cual impide que la paralelización sea completa. En este sentido, la ley de Amdhl señala que a menos que se paralelice prácticamente todo el programa en serie, el aumento de la velocidad posiblemente sea muy limitado, incluso si el número de núcleos es elevado. Entonces, esta velocidad no podrá ser mayor a 1/r, incluso si r es bastante pequeño, no se podrá obtener una velocidad superior a r. Sin embargo, este problema no debe preocuparnos demasiado, pues la ley de Amdhl no toma en cuenta el tamaño de problema, el cual al ser más grande puede llegar a reducir la fracción “inherentemente serial” del programa, esta ley es conocida como la ley de Gustafson."
   ]
  },
  {
   "cell_type": "markdown",
   "id": "c5c320e8",
   "metadata": {},
   "source": [
    "3.\t¿En qué se diferencia un CPU de un GPU? Dé un ejemplo de un proceso que convendría paralelizar en cada uno de estos tipos de unidad de procesamiento. \n",
    "\n",
    "La principal diferencia se encuentra en la cantidad de núcleos que poseen, tanto un CPU y un GPU, los cuales condicionan las tareas que pueden o no cumplir. En cuanto al CPU tiene unos cuantos núcleos optimizados para el procesamiento en serie secuencial, convirtiéndolo en un potente motor de ejecución, que centra su reducido número de núcleos en realizar tareas individuales rápidamente. Por su parte, un GPU cuenta con una arquitectura en paralelo más grande que consiste de mieles de núcleos más pequeños y eficaces, y que se diseñaron para resolver varias tareas al mismo tiempo. "
   ]
  },
  {
   "cell_type": "markdown",
   "id": "c7411534",
   "metadata": {},
   "source": [
    "4.\tPiense en una tarea serial que le han encargado paralelizar. Describa el diseño de la implementación en paralelo de dicha tarea siguiente el método de Foster y los cuatro elementos que lo componen."
   ]
  },
  {
   "cell_type": "markdown",
   "id": "a3dddef1",
   "metadata": {},
   "source": [
    "## Parte II"
   ]
  },
  {
   "cell_type": "markdown",
   "id": "68a62ca6",
   "metadata": {},
   "source": [
    "### Pregunta 1"
   ]
  },
  {
   "cell_type": "markdown",
   "id": "45084e69",
   "metadata": {},
   "source": [
    "#### Escribir un código (“parte2_1.py”) que realice lo siguiente:"
   ]
  },
  {
   "cell_type": "code",
   "execution_count": 10,
   "id": "2344e8bb",
   "metadata": {},
   "outputs": [],
   "source": [
    "# Establecer directorio\n",
    "import os\n",
    "os.chdir(r'C:\\Users\\limon\\Documents\\GitHub\\Big_Data_Analytics_Tarea1')"
   ]
  },
  {
   "cell_type": "markdown",
   "id": "02a2aaa3",
   "metadata": {},
   "source": [
    "a.\tQue un procesador genere un diccionario y lo envíe a otros tres procesadores."
   ]
  },
  {
   "cell_type": "code",
   "execution_count": 45,
   "id": "4d1f0f43",
   "metadata": {},
   "outputs": [
    {
     "name": "stdout",
     "output_type": "stream",
     "text": [
      "Overwriting parte2_1.py\n"
     ]
    }
   ],
   "source": [
    "%%writefile parte2_1.py \n",
    "from mpi4py import MPI\n",
    "\n",
    "comm = MPI.COMM_WORLD\n",
    "rank = comm.Get_rank()\n",
    "\n",
    "if rank == 0:\n",
    "    diccionario1 = {'alpha': 3, 'beta': 1.5}\n",
    "    comm.send(diccionario1, dest=1 , tag=1)\n",
    "    diccionario2 = {'Meses': 12, 'Días': 30}\n",
    "    comm.send(diccionario2, dest=2 , tag=2)\n",
    "    diccionario3 = {'Edad': 23, 'Grupo':5 }\n",
    "    comm.send(diccionario3, dest=3 , tag=3)\n",
    "elif rank == 1:\n",
    "    diccionario1 = comm.recv(source=0 , tag=1)\n",
    "    print(\"I am processor\", rank)\n",
    "    print(diccionario1)   \n",
    "elif rank == 2:\n",
    "    diccionario2 = comm.recv(source=0 , tag=2)\n",
    "    print(\"I am processor\", rank)\n",
    "    print(diccionario2)   \n",
    "elif rank == 3:\n",
    "    diccionario3 = comm.recv(source=0 , tag=3)\n",
    "    print(\"I am processor\", rank)\n",
    "    print(diccionario3)"
   ]
  },
  {
   "cell_type": "markdown",
   "id": "f2467972",
   "metadata": {},
   "source": [
    "b.\tQue cada uno de los tres procesadores reciba el diccionario enviado, imprima su número de procesador y el diccionario. "
   ]
  },
  {
   "cell_type": "code",
   "execution_count": 48,
   "id": "df6ef2c0",
   "metadata": {
    "scrolled": false
   },
   "outputs": [
    {
     "name": "stdout",
     "output_type": "stream",
     "text": [
      "I am processor 1\n",
      "{'alpha': 3, 'beta': 1.5}\n",
      "I am processor 3\n",
      "{'Edad': 23, 'Grupo': 5}\n",
      "I am processor 2\n",
      "{'Meses': 12, 'Días': 30}\n",
      "0.35742735862731934\n"
     ]
    }
   ],
   "source": [
    "# import time\n",
    "start = time.time()\n",
    "! mpiexec -n 4 python parte2_1.py\n",
    "end = time.time()\n",
    "print(end - start)"
   ]
  },
  {
   "cell_type": "markdown",
   "id": "79296b01",
   "metadata": {},
   "source": [
    "c.\tEn otro chunk responda: Si usted ejecutara el código 10 veces, ¿el orden de los resultados sería siempre igual? ¿Por qué?"
   ]
  },
  {
   "cell_type": "markdown",
   "id": "c71d69e4",
   "metadata": {},
   "source": [
    "No, necesariamente. Esto se debe a que las acciones se están desarrollando de forma paralela y uno de los procesadores pudo ser más rápido que el otro, independientemente de en que orden fueron descritos en el código y esto se debe a que en realidad los 3 procesadores se están ejecutando de forma paralela, lo cual da la posibilidad que uno de los tres ejecute más rápido que los otros dos. Es decir, pede suceder que el procesador 3 opere más rápido que el procesador 1 y 2 y en una siguiente ejecución el procesador 2 opera más rápido que el 1 y 3, y también puede darse que en un momento el procesador 1 opere más rápido que el 2 y 3. Ello deterinará el orden del resultado tanto de como aparecen los procedores y el tiempo que demora."
   ]
  }
 ],
 "metadata": {
  "kernelspec": {
   "display_name": "Python 3 (ipykernel)",
   "language": "python",
   "name": "python3"
  },
  "language_info": {
   "codemirror_mode": {
    "name": "ipython",
    "version": 3
   },
   "file_extension": ".py",
   "mimetype": "text/x-python",
   "name": "python",
   "nbconvert_exporter": "python",
   "pygments_lexer": "ipython3",
   "version": "3.9.7"
  }
 },
 "nbformat": 4,
 "nbformat_minor": 5
}
